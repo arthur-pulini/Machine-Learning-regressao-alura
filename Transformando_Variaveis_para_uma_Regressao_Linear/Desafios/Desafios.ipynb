{
 "cells": [
  {
   "cell_type": "markdown",
   "metadata": {
    "id": "qxah03ikONCD"
   },
   "source": [
    "# Sobre o notebook\n",
    "\n",
    "Aproveite esse espaço para as atividades do curso de **Data Science: transformando variáveis para uma Regressão Linear** da Alura. Aqui você pode escrever e testar os códigos dos exercícios do **Mão na Massa** envolvendo os aprendizados de cada aula.\n",
    "\n",
    "Sinta-se livre para adicionar mais células e ajustar da forma que você deseja!\n"
   ]
  },
  {
   "cell_type": "markdown",
   "metadata": {
    "id": "Cg2IzkFZ0cvX"
   },
   "source": [
    "Logo abaixo, temos a url onde está localizada a base que será utilizada neste projeto.\n",
    ">**Atenção:** Esta base é diferente daquela que estamos utilizando nas aulas!"
   ]
  },
  {
   "cell_type": "markdown",
   "metadata": {
    "id": "rXtVPSA0GAPj"
   },
   "source": [
    "Observe abaixo os dados disponíveis em nossa base:\n",
    "\n",
    "* **valor**: valor do aluguel da hospedagem para 2 diárias de até 4 pessoas em reais. Essa é a variável alvo que é o que se deseja prever de acordo com os atributos da propriedade;\n",
    "* **area**: a área da hospedagem, medida em metros quadrados;\n",
    "* **dist_praia**: distância da hospedagem até a praia mais próxima, em quilômetros;\n",
    "* **dist_mercado**: distância da hospedagem até o mercado mais próximo, em quilômetros;\n",
    "* **piscina**: variável binária que indica se a hospedagem possui ou não uma piscina. Pode ser representada como 1 para \"sim\" e 0 para \"não\".\n",
    "\n"
   ]
  },
  {
   "cell_type": "code",
   "execution_count": 2,
   "metadata": {
    "id": "flm9Eu7t0cvX"
   },
   "outputs": [],
   "source": [
    "url_hospedagens = \"https://raw.githubusercontent.com/alura-cursos/data-science-regressao-linear/main/dados/hospedagens.csv\""
   ]
  },
  {
   "cell_type": "markdown",
   "metadata": {
    "id": "IA3M1eso_L2Z"
   },
   "source": [
    "## **Aula 01 - Análises preliminares**"
   ]
  },
  {
   "cell_type": "markdown",
   "metadata": {
    "id": "AmpR_VE4CImQ"
   },
   "source": [
    "### Mão na Massa - Explorando os dados\n",
    "\n",
    "---\n",
    "\n"
   ]
  },
  {
   "cell_type": "markdown",
   "metadata": {
    "id": "b6Pxk7Zkaw3O"
   },
   "source": [
    "#### **Lendo e Explorando os dados**"
   ]
  },
  {
   "cell_type": "code",
   "execution_count": 1,
   "metadata": {
    "id": "lR3yNAuW2NYx"
   },
   "outputs": [],
   "source": [
    "import pandas as pd"
   ]
  },
  {
   "cell_type": "code",
   "execution_count": 3,
   "metadata": {
    "colab": {
     "base_uri": "https://localhost:8080/",
     "height": 206
    },
    "executionInfo": {
     "elapsed": 436,
     "status": "ok",
     "timestamp": 1717459164306,
     "user": {
      "displayName": "Afonso Augusto Rios",
      "userId": "05972796828124452071"
     },
     "user_tz": 180
    },
    "id": "ZruvypSoO6oP",
    "outputId": "e4433286-e6e8-420d-9ded-7a7f9cb4d6ae"
   },
   "outputs": [],
   "source": [
    "dados = pd.read_csv(url_hospedagens)"
   ]
  },
  {
   "cell_type": "code",
   "execution_count": 4,
   "metadata": {
    "colab": {
     "base_uri": "https://localhost:8080/"
    },
    "executionInfo": {
     "elapsed": 16,
     "status": "ok",
     "timestamp": 1717459164306,
     "user": {
      "displayName": "Afonso Augusto Rios",
      "userId": "05972796828124452071"
     },
     "user_tz": 180
    },
    "id": "wN0_cal1O6FJ",
    "outputId": "d78a0fc4-fe7c-4573-ad73-837ad82906e1"
   },
   "outputs": [
    {
     "data": {
      "text/html": [
       "<div>\n",
       "<style scoped>\n",
       "    .dataframe tbody tr th:only-of-type {\n",
       "        vertical-align: middle;\n",
       "    }\n",
       "\n",
       "    .dataframe tbody tr th {\n",
       "        vertical-align: top;\n",
       "    }\n",
       "\n",
       "    .dataframe thead th {\n",
       "        text-align: right;\n",
       "    }\n",
       "</style>\n",
       "<table border=\"1\" class=\"dataframe\">\n",
       "  <thead>\n",
       "    <tr style=\"text-align: right;\">\n",
       "      <th></th>\n",
       "      <th>valor</th>\n",
       "      <th>area</th>\n",
       "      <th>dist_praia</th>\n",
       "      <th>dist_mercado</th>\n",
       "      <th>piscina</th>\n",
       "    </tr>\n",
       "  </thead>\n",
       "  <tbody>\n",
       "    <tr>\n",
       "      <th>0</th>\n",
       "      <td>4600.0</td>\n",
       "      <td>280</td>\n",
       "      <td>0.241</td>\n",
       "      <td>0.794</td>\n",
       "      <td>1</td>\n",
       "    </tr>\n",
       "    <tr>\n",
       "      <th>1</th>\n",
       "      <td>900.0</td>\n",
       "      <td>208</td>\n",
       "      <td>0.904</td>\n",
       "      <td>0.134</td>\n",
       "      <td>1</td>\n",
       "    </tr>\n",
       "    <tr>\n",
       "      <th>2</th>\n",
       "      <td>2550.0</td>\n",
       "      <td>170</td>\n",
       "      <td>0.060</td>\n",
       "      <td>0.423</td>\n",
       "      <td>1</td>\n",
       "    </tr>\n",
       "    <tr>\n",
       "      <th>3</th>\n",
       "      <td>550.0</td>\n",
       "      <td>100</td>\n",
       "      <td>2.883</td>\n",
       "      <td>0.525</td>\n",
       "      <td>0</td>\n",
       "    </tr>\n",
       "    <tr>\n",
       "      <th>4</th>\n",
       "      <td>2200.0</td>\n",
       "      <td>164</td>\n",
       "      <td>0.240</td>\n",
       "      <td>0.192</td>\n",
       "      <td>0</td>\n",
       "    </tr>\n",
       "  </tbody>\n",
       "</table>\n",
       "</div>"
      ],
      "text/plain": [
       "    valor  area  dist_praia  dist_mercado  piscina\n",
       "0  4600.0   280       0.241         0.794        1\n",
       "1   900.0   208       0.904         0.134        1\n",
       "2  2550.0   170       0.060         0.423        1\n",
       "3   550.0   100       2.883         0.525        0\n",
       "4  2200.0   164       0.240         0.192        0"
      ]
     },
     "execution_count": 4,
     "metadata": {},
     "output_type": "execute_result"
    }
   ],
   "source": [
    "dados.head()"
   ]
  },
  {
   "cell_type": "code",
   "execution_count": 5,
   "metadata": {
    "colab": {
     "base_uri": "https://localhost:8080/"
    },
    "executionInfo": {
     "elapsed": 15,
     "status": "ok",
     "timestamp": 1717459164306,
     "user": {
      "displayName": "Afonso Augusto Rios",
      "userId": "05972796828124452071"
     },
     "user_tz": 180
    },
    "id": "evKtkM7u20-x",
    "outputId": "bc1cd9ae-5ba3-4160-d0b7-f1a5efff5947"
   },
   "outputs": [
    {
     "name": "stdout",
     "output_type": "stream",
     "text": [
      "<class 'pandas.core.frame.DataFrame'>\n",
      "RangeIndex: 5000 entries, 0 to 4999\n",
      "Data columns (total 5 columns):\n",
      " #   Column        Non-Null Count  Dtype  \n",
      "---  ------        --------------  -----  \n",
      " 0   valor         5000 non-null   float64\n",
      " 1   area          5000 non-null   int64  \n",
      " 2   dist_praia    5000 non-null   float64\n",
      " 3   dist_mercado  5000 non-null   float64\n",
      " 4   piscina       5000 non-null   int64  \n",
      "dtypes: float64(3), int64(2)\n",
      "memory usage: 195.4 KB\n"
     ]
    }
   ],
   "source": [
    "dados.info()"
   ]
  },
  {
   "cell_type": "markdown",
   "metadata": {
    "id": "Vo0eEda4bqU8"
   },
   "source": [
    "#### **Entendendo a relação dos dados**"
   ]
  },
  {
   "cell_type": "code",
   "execution_count": 8,
   "metadata": {
    "colab": {
     "base_uri": "https://localhost:8080/",
     "height": 206
    },
    "executionInfo": {
     "elapsed": 14,
     "status": "ok",
     "timestamp": 1717459164306,
     "user": {
      "displayName": "Afonso Augusto Rios",
      "userId": "05972796828124452071"
     },
     "user_tz": 180
    },
    "id": "-aGMXPJzaVXm",
    "outputId": "ee092f5b-16b8-4d77-f947-40e7959db8b0"
   },
   "outputs": [
    {
     "data": {
      "text/html": [
       "<div>\n",
       "<style scoped>\n",
       "    .dataframe tbody tr th:only-of-type {\n",
       "        vertical-align: middle;\n",
       "    }\n",
       "\n",
       "    .dataframe tbody tr th {\n",
       "        vertical-align: top;\n",
       "    }\n",
       "\n",
       "    .dataframe thead th {\n",
       "        text-align: right;\n",
       "    }\n",
       "</style>\n",
       "<table border=\"1\" class=\"dataframe\">\n",
       "  <thead>\n",
       "    <tr style=\"text-align: right;\">\n",
       "      <th></th>\n",
       "      <th>valor</th>\n",
       "      <th>area</th>\n",
       "      <th>dist_praia</th>\n",
       "      <th>dist_mercado</th>\n",
       "      <th>piscina</th>\n",
       "    </tr>\n",
       "  </thead>\n",
       "  <tbody>\n",
       "    <tr>\n",
       "      <th>valor</th>\n",
       "      <td>1.000000</td>\n",
       "      <td>0.710974</td>\n",
       "      <td>-0.366543</td>\n",
       "      <td>-0.024377</td>\n",
       "      <td>0.294870</td>\n",
       "    </tr>\n",
       "    <tr>\n",
       "      <th>area</th>\n",
       "      <td>0.710974</td>\n",
       "      <td>1.000000</td>\n",
       "      <td>-0.283372</td>\n",
       "      <td>-0.030997</td>\n",
       "      <td>0.299858</td>\n",
       "    </tr>\n",
       "    <tr>\n",
       "      <th>dist_praia</th>\n",
       "      <td>-0.366543</td>\n",
       "      <td>-0.283372</td>\n",
       "      <td>1.000000</td>\n",
       "      <td>0.025650</td>\n",
       "      <td>-0.322888</td>\n",
       "    </tr>\n",
       "    <tr>\n",
       "      <th>dist_mercado</th>\n",
       "      <td>-0.024377</td>\n",
       "      <td>-0.030997</td>\n",
       "      <td>0.025650</td>\n",
       "      <td>1.000000</td>\n",
       "      <td>-0.004902</td>\n",
       "    </tr>\n",
       "    <tr>\n",
       "      <th>piscina</th>\n",
       "      <td>0.294870</td>\n",
       "      <td>0.299858</td>\n",
       "      <td>-0.322888</td>\n",
       "      <td>-0.004902</td>\n",
       "      <td>1.000000</td>\n",
       "    </tr>\n",
       "  </tbody>\n",
       "</table>\n",
       "</div>"
      ],
      "text/plain": [
       "                 valor      area  dist_praia  dist_mercado   piscina\n",
       "valor         1.000000  0.710974   -0.366543     -0.024377  0.294870\n",
       "area          0.710974  1.000000   -0.283372     -0.030997  0.299858\n",
       "dist_praia   -0.366543 -0.283372    1.000000      0.025650 -0.322888\n",
       "dist_mercado -0.024377 -0.030997    0.025650      1.000000 -0.004902\n",
       "piscina       0.294870  0.299858   -0.322888     -0.004902  1.000000"
      ]
     },
     "execution_count": 8,
     "metadata": {},
     "output_type": "execute_result"
    }
   ],
   "source": [
    "corr = dados.corr()\n",
    "corr"
   ]
  },
  {
   "cell_type": "code",
   "execution_count": 9,
   "metadata": {
    "colab": {
     "base_uri": "https://localhost:8080/",
     "height": 206
    },
    "executionInfo": {
     "elapsed": 13,
     "status": "ok",
     "timestamp": 1717459164306,
     "user": {
      "displayName": "Afonso Augusto Rios",
      "userId": "05972796828124452071"
     },
     "user_tz": 180
    },
    "id": "iGzmuJmfabkU",
    "outputId": "351088f9-ce49-46cd-d48f-c9f04834d39b"
   },
   "outputs": [
    {
     "data": {
      "text/html": [
       "<div>\n",
       "<style scoped>\n",
       "    .dataframe tbody tr th:only-of-type {\n",
       "        vertical-align: middle;\n",
       "    }\n",
       "\n",
       "    .dataframe tbody tr th {\n",
       "        vertical-align: top;\n",
       "    }\n",
       "\n",
       "    .dataframe thead th {\n",
       "        text-align: right;\n",
       "    }\n",
       "</style>\n",
       "<table border=\"1\" class=\"dataframe\">\n",
       "  <thead>\n",
       "    <tr style=\"text-align: right;\">\n",
       "      <th></th>\n",
       "      <th>valor</th>\n",
       "    </tr>\n",
       "  </thead>\n",
       "  <tbody>\n",
       "    <tr>\n",
       "      <th>valor</th>\n",
       "      <td>1.000000</td>\n",
       "    </tr>\n",
       "    <tr>\n",
       "      <th>area</th>\n",
       "      <td>0.710974</td>\n",
       "    </tr>\n",
       "    <tr>\n",
       "      <th>dist_praia</th>\n",
       "      <td>-0.366543</td>\n",
       "    </tr>\n",
       "    <tr>\n",
       "      <th>dist_mercado</th>\n",
       "      <td>-0.024377</td>\n",
       "    </tr>\n",
       "    <tr>\n",
       "      <th>piscina</th>\n",
       "      <td>0.294870</td>\n",
       "    </tr>\n",
       "  </tbody>\n",
       "</table>\n",
       "</div>"
      ],
      "text/plain": [
       "                 valor\n",
       "valor         1.000000\n",
       "area          0.710974\n",
       "dist_praia   -0.366543\n",
       "dist_mercado -0.024377\n",
       "piscina       0.294870"
      ]
     },
     "execution_count": 9,
     "metadata": {},
     "output_type": "execute_result"
    }
   ],
   "source": [
    "corr['valor'].to_frame()"
   ]
  },
  {
   "cell_type": "markdown",
   "metadata": {
    "id": "8QyZYw1bbyUs"
   },
   "source": [
    "> #### <strong><font color=\"#203f75\" size= 6>Observações:</font></strong>\n",
    "\n",
    "A variável independente **area** é a que apresenta a maior correlação com variável dependente **valor**. As distâncias possuem uma correlação negativa, quanto maior a distância entre o imóvel e estas variáveis, menor o preço. Quando existe uma piscina no imóvel seu preço da hospedagem tende a subir."
   ]
  },
  {
   "cell_type": "markdown",
   "metadata": {
    "id": "WMt8EkgFcBwE"
   },
   "source": [
    "#### **Regressão linear com uma variável independente**"
   ]
  },
  {
   "cell_type": "code",
   "execution_count": 10,
   "metadata": {},
   "outputs": [
    {
     "data": {
      "image/png": "[encoded data removed]",
      "text/plain": [
       "<Figure size 640x480 with 1 Axes>"
      ]
     },
     "metadata": {},
     "output_type": "display_data"
    }
   ],
   "source": [
    "from scipy import stats\n",
    "import seaborn as sns\n",
    "import matplotlib.pyplot as plt\n",
    "\n",
    "slope, intercept, rvalue, pvalue, stderr = stats.linregress(dados['area'], dados['valor'])\n",
    "\n",
    "sns.set_style(\"darkgrid\")\n",
    "sns.regplot(x='area', y='valor', \n",
    "            data=dados, line_kws={'color':'red'}, \n",
    "            label=f\"y={slope:.1f}x+{intercept:.1f}\").legend(loc=\"best\")\n",
    "plt.show()"
   ]
  },
  {
   "cell_type": "markdown",
   "metadata": {
    "id": "xMszGMlKcTPp"
   },
   "source": [
    "> #### <strong><font color=\"#203f75\" size= 6>Observações:</font></strong>\n",
    "\n",
    "\n",
    "Existe uma dificuldade de interpretar os dados com valores maiores, quanto maior a área, maior o erro da regressão."
   ]
  },
  {
   "cell_type": "markdown",
   "metadata": {
    "id": "ix1N_JAH_T1C"
   },
   "source": [
    "## **Aula 02 - Análises gráficas**"
   ]
  },
  {
   "cell_type": "markdown",
   "metadata": {
    "id": "1sZUt4Nk_scq"
   },
   "source": [
    "### Mão na Massa - Investigando o comportamento das variáveis"
   ]
  },
  {
   "cell_type": "markdown",
   "metadata": {
    "id": "7ni8If6idoOD"
   },
   "source": [
    "#### **Comportamento da variável dependente**"
   ]
  },
  {
   "cell_type": "code",
   "execution_count": 11,
   "metadata": {
    "colab": {
     "base_uri": "https://localhost:8080/",
     "height": 336
    },
    "executionInfo": {
     "elapsed": 10,
     "status": "ok",
     "timestamp": 1717459165605,
     "user": {
      "displayName": "Afonso Augusto Rios",
      "userId": "05972796828124452071"
     },
     "user_tz": 180
    },
    "id": "EQ2k1j6f_scv",
    "outputId": "f3337dec-aa79-43b9-b61e-a21213efd573"
   },
   "outputs": [
    {
     "data": {
      "image/png": "[encoded data removed]",
      "text/plain": [
       "<Figure size 2000x600 with 1 Axes>"
      ]
     },
     "metadata": {},
     "output_type": "display_data"
    }
   ],
   "source": [
    "ax = sns.boxplot(x='valor', data=dados, width=0.4)\n",
    "ax.figure.set_size_inches(20, 6)\n",
    "ax.set_title(\"Valor da hospedagem\", fontsize=20)\n",
    "ax.set_xlabel(\"Valor\", fontsize=14)\n",
    "plt.show()"
   ]
  },
  {
   "cell_type": "code",
   "execution_count": 12,
   "metadata": {
    "colab": {
     "base_uri": "https://localhost:8080/",
     "height": 326
    },
    "executionInfo": {
     "elapsed": 856,
     "status": "ok",
     "timestamp": 1717459166451,
     "user": {
      "displayName": "Afonso Augusto Rios",
      "userId": "05972796828124452071"
     },
     "user_tz": 180
    },
    "id": "kz2xGyH0_scv",
    "outputId": "45e7b143-b23f-4115-fe6c-4d94573c1e26"
   },
   "outputs": [
    {
     "data": {
      "image/png": "[encoded data removed]",
      "text/plain": [
       "<Figure size 2000x600 with 1 Axes>"
      ]
     },
     "metadata": {},
     "output_type": "display_data"
    }
   ],
   "source": [
    "ax = sns.histplot(data=dados, x=\"valor\", kde=True)\n",
    "ax.figure.set_size_inches(20, 6)\n",
    "ax.set_title(\"Distribuição de frequências\", fontsize=20)\n",
    "ax.set_xlabel(\"Valor da hospedagem\", fontsize=14)\n",
    "plt.show()"
   ]
  },
  {
   "cell_type": "markdown",
   "metadata": {
    "id": "dvJ1zoerd3xT"
   },
   "source": [
    "> #### <strong><font color=\"#203f75\" size= 6>Observações:</font></strong>\n",
    "\n",
    "É possível ver que a distribuição dos valores das hospedagens não seguem uma normal, não é simétrica, sendo assimétrica para direita."
   ]
  },
  {
   "cell_type": "markdown",
   "metadata": {
    "id": "c2SqIX4CeYWV"
   },
   "source": [
    "### **Análise das variáveis explicativas em relação ao valor**"
   ]
  },
  {
   "cell_type": "code",
   "execution_count": 13,
   "metadata": {
    "colab": {
     "base_uri": "https://localhost:8080/",
     "height": 259
    },
    "executionInfo": {
     "elapsed": 3171,
     "status": "ok",
     "timestamp": 1717459169613,
     "user": {
      "displayName": "Afonso Augusto Rios",
      "userId": "05972796828124452071"
     },
     "user_tz": 180
    },
    "id": "Ldsifbxk20q6",
    "outputId": "5f0f8a52-8896-4c3d-c699-b1b6e0e4126c"
   },
   "outputs": [
    {
     "data": {
      "text/plain": [
       "Index(['valor', 'area', 'dist_praia', 'dist_mercado', 'piscina'], dtype='object')"
      ]
     },
     "execution_count": 13,
     "metadata": {},
     "output_type": "execute_result"
    }
   ],
   "source": [
    "dados.columns"
   ]
  },
  {
   "cell_type": "code",
   "execution_count": 17,
   "metadata": {
    "colab": {
     "base_uri": "https://localhost:8080/",
     "height": 339
    },
    "executionInfo": {
     "elapsed": 3480,
     "status": "ok",
     "timestamp": 1717459173087,
     "user": {
      "displayName": "Afonso Augusto Rios",
      "userId": "05972796828124452071"
     },
     "user_tz": 180
    },
    "id": "qLffFYqR20oJ",
    "outputId": "261e2732-03bc-4aaf-c734-f3babbde6e8d"
   },
   "outputs": [
    {
     "data": {
      "image/png": "[encoded data removed]",
      "text/plain": [
       "<Figure size 750x250 with 3 Axes>"
      ]
     },
     "metadata": {},
     "output_type": "display_data"
    }
   ],
   "source": [
    "ax = sns.pairplot(data=dados, y_vars='valor', \n",
    "                  x_vars=['area', 'dist_praia', 'dist_mercado'],\n",
    "                 kind='reg',\n",
    "                 plot_kws={'line_kws':{'color': 'red'}} )\n",
    "ax.figure.suptitle('Gráfico de dispersão das variáveis', fontsize=20, y=1.1)\n",
    "plt.show()"
   ]
  },
  {
   "cell_type": "code",
   "execution_count": 16,
   "metadata": {},
   "outputs": [
    {
     "data": {
      "text/html": [
       "<div>\n",
       "<style scoped>\n",
       "    .dataframe tbody tr th:only-of-type {\n",
       "        vertical-align: middle;\n",
       "    }\n",
       "\n",
       "    .dataframe tbody tr th {\n",
       "        vertical-align: top;\n",
       "    }\n",
       "\n",
       "    .dataframe thead th {\n",
       "        text-align: right;\n",
       "    }\n",
       "</style>\n",
       "<table border=\"1\" class=\"dataframe\">\n",
       "  <thead>\n",
       "    <tr style=\"text-align: right;\">\n",
       "      <th></th>\n",
       "      <th>valor</th>\n",
       "    </tr>\n",
       "  </thead>\n",
       "  <tbody>\n",
       "    <tr>\n",
       "      <th>valor</th>\n",
       "      <td>1.000000</td>\n",
       "    </tr>\n",
       "    <tr>\n",
       "      <th>area</th>\n",
       "      <td>0.710974</td>\n",
       "    </tr>\n",
       "    <tr>\n",
       "      <th>dist_praia</th>\n",
       "      <td>-0.366543</td>\n",
       "    </tr>\n",
       "    <tr>\n",
       "      <th>dist_mercado</th>\n",
       "      <td>-0.024377</td>\n",
       "    </tr>\n",
       "    <tr>\n",
       "      <th>piscina</th>\n",
       "      <td>0.294870</td>\n",
       "    </tr>\n",
       "  </tbody>\n",
       "</table>\n",
       "</div>"
      ],
      "text/plain": [
       "                 valor\n",
       "valor         1.000000\n",
       "area          0.710974\n",
       "dist_praia   -0.366543\n",
       "dist_mercado -0.024377\n",
       "piscina       0.294870"
      ]
     },
     "execution_count": 16,
     "metadata": {},
     "output_type": "execute_result"
    }
   ],
   "source": [
    "corr['valor'].to_frame()"
   ]
  },
  {
   "cell_type": "markdown",
   "metadata": {
    "id": "OT529W4MfnJe"
   },
   "source": [
    "> #### <strong><font color=\"#203f75\" size= 6>Observações:</font></strong>\n",
    "\n",
    "A variável **piscina** foi retirada na análise, pois se trata de uma variável binária. Como visto na correlação, a variável **dist_mercado** está muito próxima de 0, sendo assim não há uma correlação linear com o valor. A distribuição de **dist_praia** está mais para uma curvilí"
   ]
  },
  {
   "cell_type": "markdown",
   "metadata": {
    "id": "1uTAdILB_T6m"
   },
   "source": [
    "## **Aula 03 - Transformação de variáveis**"
   ]
  },
  {
   "cell_type": "markdown",
   "metadata": {
    "id": "SsQ3DvzR_t-L"
   },
   "source": [
    "### Mão na Massa - Transformando os dados e verificando suas relações"
   ]
  },
  {
   "cell_type": "markdown",
   "metadata": {
    "id": "e7DaTgJ7f36T"
   },
   "source": [
    "### **Transformando os dados**"
   ]
  },
  {
   "cell_type": "code",
   "execution_count": null,
   "metadata": {
    "colab": {
     "base_uri": "https://localhost:8080/",
     "height": 300
    },
    "executionInfo": {
     "elapsed": 12,
     "status": "ok",
     "timestamp": 1717459173087,
     "user": {
      "displayName": "Afonso Augusto Rios",
      "userId": "05972796828124452071"
     },
     "user_tz": 180
    },
    "id": "0lEwT00p_t-Q",
    "outputId": "84d77c06-8a68-46c7-8c81-29c0fa4d9c71"
   },
   "outputs": [],
   "source": []
  },
  {
   "cell_type": "code",
   "execution_count": null,
   "metadata": {
    "id": "loyN2vJ_gd1o"
   },
   "outputs": [],
   "source": []
  },
  {
   "cell_type": "code",
   "execution_count": null,
   "metadata": {
    "colab": {
     "base_uri": "https://localhost:8080/",
     "height": 143
    },
    "executionInfo": {
     "elapsed": 11,
     "status": "ok",
     "timestamp": 1717459173087,
     "user": {
      "displayName": "Afonso Augusto Rios",
      "userId": "05972796828124452071"
     },
     "user_tz": 180
    },
    "id": "MYKn6y0dgdoe",
    "outputId": "242c8545-ee55-476b-eb65-d02cce4cab3e"
   },
   "outputs": [],
   "source": []
  },
  {
   "cell_type": "markdown",
   "metadata": {
    "id": "DK-yLFSHjcv0"
   },
   "source": [
    "> #### <strong><font color=\"#203f75\" size= 6>Observações:</font></strong>\n",
    "\n",
    "Adicione aqui suas hipóteses e interpretações dos dados!"
   ]
  },
  {
   "cell_type": "markdown",
   "metadata": {
    "id": "91AyXy2hgGoM"
   },
   "source": [
    "### **Distribuição de frequências da variável dependente transformada**"
   ]
  },
  {
   "cell_type": "code",
   "execution_count": null,
   "metadata": {
    "colab": {
     "base_uri": "https://localhost:8080/",
     "height": 517
    },
    "executionInfo": {
     "elapsed": 724,
     "status": "ok",
     "timestamp": 1717459173801,
     "user": {
      "displayName": "Afonso Augusto Rios",
      "userId": "05972796828124452071"
     },
     "user_tz": 180
    },
    "id": "aRfK6fbR4VaN",
    "outputId": "0dd2149e-01be-4e04-c29c-f7ad8c567d65"
   },
   "outputs": [],
   "source": []
  },
  {
   "cell_type": "markdown",
   "metadata": {
    "id": "kBct0W6cf1B1"
   },
   "source": [
    "> #### <strong><font color=\"#203f75\" size= 6>Observações:</font></strong>\n",
    "\n",
    "Adicione aqui suas hipóteses e interpretações dos dados!"
   ]
  },
  {
   "cell_type": "markdown",
   "metadata": {
    "id": "Cqa92dF_gH2O"
   },
   "source": [
    "### **Análise das variáveis explicativas transformadas em relação ao valor**"
   ]
  },
  {
   "cell_type": "code",
   "execution_count": null,
   "metadata": {
    "colab": {
     "base_uri": "https://localhost:8080/",
     "height": 339
    },
    "executionInfo": {
     "elapsed": 2775,
     "status": "ok",
     "timestamp": 1717459437899,
     "user": {
      "displayName": "Afonso Augusto Rios",
      "userId": "05972796828124452071"
     },
     "user_tz": 180
    },
    "id": "Kph9U49n4VXX",
    "outputId": "e698e7c2-d414-4906-fbf4-d68f8afed9ce"
   },
   "outputs": [],
   "source": []
  },
  {
   "cell_type": "markdown",
   "metadata": {
    "id": "neOUdV1NjgwI"
   },
   "source": [
    "> #### <strong><font color=\"#203f75\" size= 6>Observações:</font></strong>\n",
    "\n",
    "Adicione aqui suas hipóteses e interpretações dos dados!"
   ]
  },
  {
   "cell_type": "markdown",
   "metadata": {
    "id": "i_X1NcH9_T-u"
   },
   "source": [
    "## **Aula 04 - Regressão linear múltipla**"
   ]
  },
  {
   "cell_type": "markdown",
   "metadata": {
    "id": "jQGogqg0_uiR"
   },
   "source": [
    "### Mão na Massa - Preparando os dados e treinando o modelo"
   ]
  },
  {
   "cell_type": "markdown",
   "metadata": {
    "id": "Ud95XJJbkAOJ"
   },
   "source": [
    "### **Dividindo os dados em treino e teste**"
   ]
  },
  {
   "cell_type": "code",
   "execution_count": null,
   "metadata": {
    "id": "y5nRo3L90cvh"
   },
   "outputs": [],
   "source": []
  },
  {
   "cell_type": "code",
   "execution_count": null,
   "metadata": {
    "id": "YPKWLGChksP0"
   },
   "outputs": [],
   "source": []
  },
  {
   "cell_type": "code",
   "execution_count": null,
   "metadata": {
    "id": "mL8kjx9D4nLs"
   },
   "outputs": [],
   "source": []
  },
  {
   "cell_type": "code",
   "execution_count": null,
   "metadata": {
    "colab": {
     "base_uri": "https://localhost:8080/",
     "height": 424
    },
    "executionInfo": {
     "elapsed": 570,
     "status": "ok",
     "timestamp": 1717461043098,
     "user": {
      "displayName": "Afonso Augusto Rios",
      "userId": "05972796828124452071"
     },
     "user_tz": 180
    },
    "id": "p1mi3J4hlDN-",
    "outputId": "8f4fd9dd-65d8-4ee0-fa1c-8f2518dd404e"
   },
   "outputs": [],
   "source": []
  },
  {
   "cell_type": "code",
   "execution_count": null,
   "metadata": {
    "colab": {
     "base_uri": "https://localhost:8080/"
    },
    "executionInfo": {
     "elapsed": 3,
     "status": "ok",
     "timestamp": 1717461046646,
     "user": {
      "displayName": "Afonso Augusto Rios",
      "userId": "05972796828124452071"
     },
     "user_tz": 180
    },
    "id": "HYo0Wp4zlDGH",
    "outputId": "a2985cf5-8afd-4255-89f6-01e2c8e7de9c"
   },
   "outputs": [],
   "source": []
  },
  {
   "cell_type": "markdown",
   "metadata": {
    "id": "DZhb-lqZkJN8"
   },
   "source": [
    "### **Estimando modelo de regressão linear e avaliando as estatísticas do modelo**"
   ]
  },
  {
   "cell_type": "code",
   "execution_count": null,
   "metadata": {
    "id": "djIFP2PP4nEJ"
   },
   "outputs": [],
   "source": []
  },
  {
   "cell_type": "code",
   "execution_count": null,
   "metadata": {
    "id": "ctO5F6yzlLIu"
   },
   "outputs": [],
   "source": []
  },
  {
   "cell_type": "code",
   "execution_count": null,
   "metadata": {
    "colab": {
     "base_uri": "https://localhost:8080/"
    },
    "executionInfo": {
     "elapsed": 3,
     "status": "ok",
     "timestamp": 1717461050992,
     "user": {
      "displayName": "Afonso Augusto Rios",
      "userId": "05972796828124452071"
     },
     "user_tz": 180
    },
    "id": "TphHJlKnlLB7",
    "outputId": "d69c815c-5bc5-4df7-9243-02a487fe7e5b"
   },
   "outputs": [],
   "source": []
  },
  {
   "cell_type": "markdown",
   "metadata": {
    "id": "1d8k9RhIlgKw"
   },
   "source": [
    "> #### <strong><font color=\"#203f75\" size= 6>Observações:</font></strong>\n",
    "\n",
    "Adicione aqui suas hipóteses e interpretações dos dados!"
   ]
  },
  {
   "cell_type": "markdown",
   "metadata": {
    "id": "6eBSgZgykayC"
   },
   "source": [
    "### **Treinando o modelo**"
   ]
  },
  {
   "cell_type": "code",
   "execution_count": null,
   "metadata": {
    "id": "4FsWxY2C4nBn"
   },
   "outputs": [],
   "source": []
  },
  {
   "cell_type": "code",
   "execution_count": null,
   "metadata": {
    "id": "-HiMSr_oljE-"
   },
   "outputs": [],
   "source": []
  },
  {
   "cell_type": "code",
   "execution_count": null,
   "metadata": {
    "colab": {
     "base_uri": "https://localhost:8080/",
     "height": 206
    },
    "executionInfo": {
     "elapsed": 644,
     "status": "ok",
     "timestamp": 1717461063012,
     "user": {
      "displayName": "Afonso Augusto Rios",
      "userId": "05972796828124452071"
     },
     "user_tz": 180
    },
    "id": "5W4GlBHwljBq",
    "outputId": "27a558bf-7af4-4b3b-d13d-bdfe0d99df73"
   },
   "outputs": [],
   "source": []
  },
  {
   "cell_type": "code",
   "execution_count": null,
   "metadata": {
    "colab": {
     "base_uri": "https://localhost:8080/",
     "height": 75
    },
    "executionInfo": {
     "elapsed": 14,
     "status": "ok",
     "timestamp": 1717461065410,
     "user": {
      "displayName": "Afonso Augusto Rios",
      "userId": "05972796828124452071"
     },
     "user_tz": 180
    },
    "id": "I8afioB-lkEV",
    "outputId": "edd060ef-e81b-4232-de3c-e042e8395e2b"
   },
   "outputs": [],
   "source": []
  },
  {
   "cell_type": "code",
   "execution_count": null,
   "metadata": {
    "colab": {
     "base_uri": "https://localhost:8080/"
    },
    "executionInfo": {
     "elapsed": 368,
     "status": "ok",
     "timestamp": 1717461067525,
     "user": {
      "displayName": "Afonso Augusto Rios",
      "userId": "05972796828124452071"
     },
     "user_tz": 180
    },
    "id": "YHEwC0znlkBL",
    "outputId": "16cc37fc-ce20-41e4-98bd-4bd33e55a89c"
   },
   "outputs": [],
   "source": []
  },
  {
   "cell_type": "code",
   "execution_count": null,
   "metadata": {
    "id": "gImZ2sm2lj90"
   },
   "outputs": [],
   "source": []
  },
  {
   "cell_type": "code",
   "execution_count": null,
   "metadata": {
    "colab": {
     "base_uri": "https://localhost:8080/"
    },
    "executionInfo": {
     "elapsed": 8,
     "status": "ok",
     "timestamp": 1717461071755,
     "user": {
      "displayName": "Afonso Augusto Rios",
      "userId": "05972796828124452071"
     },
     "user_tz": 180
    },
    "id": "NT1PcFhBlj59",
    "outputId": "860abdd4-3941-4909-e8cf-9b0df2e846f6"
   },
   "outputs": [],
   "source": []
  },
  {
   "cell_type": "markdown",
   "metadata": {
    "id": "3UAL3jL3kfp7"
   },
   "source": [
    "### **Precificando uma hospedagem**"
   ]
  },
  {
   "cell_type": "markdown",
   "metadata": {
    "id": "c2voiaQKpRzM"
   },
   "source": [
    "<img src=\"https://github.com/afonsosr2/data-science-regressao-linear/blob/main/imagens/quanto_custa_slide_2.png?raw=true\" alt=\"Imagem de uma casa e suas características para precificação\" width=720>"
   ]
  },
  {
   "cell_type": "code",
   "execution_count": null,
   "metadata": {
    "id": "x170pw5I4m-y"
   },
   "outputs": [],
   "source": []
  },
  {
   "cell_type": "code",
   "execution_count": null,
   "metadata": {
    "colab": {
     "base_uri": "https://localhost:8080/"
    },
    "executionInfo": {
     "elapsed": 524,
     "status": "ok",
     "timestamp": 1717461111770,
     "user": {
      "displayName": "Afonso Augusto Rios",
      "userId": "05972796828124452071"
     },
     "user_tz": 180
    },
    "id": "fEjMcKmXmLhv",
    "outputId": "39e1f814-31ed-43cc-b687-ef5a52e4b831"
   },
   "outputs": [],
   "source": []
  },
  {
   "cell_type": "code",
   "execution_count": null,
   "metadata": {
    "colab": {
     "base_uri": "https://localhost:8080/"
    },
    "executionInfo": {
     "elapsed": 3,
     "status": "ok",
     "timestamp": 1717461112324,
     "user": {
      "displayName": "Afonso Augusto Rios",
      "userId": "05972796828124452071"
     },
     "user_tz": 180
    },
    "id": "hUuM1xJ3mLek",
    "outputId": "2672fabb-a173-47a9-d6d0-ffac432fd5cd"
   },
   "outputs": [],
   "source": []
  },
  {
   "cell_type": "markdown",
   "metadata": {
    "id": "yV7fXu1d4oU8"
   },
   "source": [
    "## **Aula 05 - Entendendo os resultados**"
   ]
  },
  {
   "cell_type": "markdown",
   "metadata": {
    "id": "qhNC47X_4oVB"
   },
   "source": [
    "### Mão na Massa - Interpretando os coeficientes do modelo e prevendo mais hospedagens"
   ]
  },
  {
   "cell_type": "markdown",
   "metadata": {
    "id": "8Cl7Vk0IqSs6"
   },
   "source": [
    "### **Obtendo o intercepto e coeficientes**"
   ]
  },
  {
   "cell_type": "code",
   "execution_count": null,
   "metadata": {
    "colab": {
     "base_uri": "https://localhost:8080/"
    },
    "executionInfo": {
     "elapsed": 524,
     "status": "ok",
     "timestamp": 1717461316120,
     "user": {
      "displayName": "Afonso Augusto Rios",
      "userId": "05972796828124452071"
     },
     "user_tz": 180
    },
    "id": "NbKRhKyo4oVC",
    "outputId": "7dfaa954-2074-41a1-ed44-c6c3bcf99f6a"
   },
   "outputs": [],
   "source": []
  },
  {
   "cell_type": "code",
   "execution_count": null,
   "metadata": {
    "colab": {
     "base_uri": "https://localhost:8080/"
    },
    "executionInfo": {
     "elapsed": 506,
     "status": "ok",
     "timestamp": 1717461493796,
     "user": {
      "displayName": "Afonso Augusto Rios",
      "userId": "05972796828124452071"
     },
     "user_tz": 180
    },
    "id": "zxa_04W0rp37",
    "outputId": "01e160e0-40a0-44f2-e1ec-cf3ff2dbd989"
   },
   "outputs": [],
   "source": []
  },
  {
   "cell_type": "code",
   "execution_count": null,
   "metadata": {
    "colab": {
     "base_uri": "https://localhost:8080/"
    },
    "executionInfo": {
     "elapsed": 6,
     "status": "ok",
     "timestamp": 1717461316121,
     "user": {
      "displayName": "Afonso Augusto Rios",
      "userId": "05972796828124452071"
     },
     "user_tz": 180
    },
    "id": "OsH-GwF4q5ST",
    "outputId": "ee25357d-76b6-4d19-ed28-2886876745f8"
   },
   "outputs": [],
   "source": []
  },
  {
   "cell_type": "code",
   "execution_count": null,
   "metadata": {
    "colab": {
     "base_uri": "https://localhost:8080/"
    },
    "executionInfo": {
     "elapsed": 9,
     "status": "ok",
     "timestamp": 1717461350296,
     "user": {
      "displayName": "Afonso Augusto Rios",
      "userId": "05972796828124452071"
     },
     "user_tz": 180
    },
    "id": "FkeY9nhSq5O9",
    "outputId": "7554f589-2005-4f40-8ba9-f3f7b0df40b3"
   },
   "outputs": [],
   "source": []
  },
  {
   "cell_type": "code",
   "execution_count": null,
   "metadata": {
    "id": "Dpx2P2GsrELS"
   },
   "outputs": [],
   "source": []
  },
  {
   "cell_type": "code",
   "execution_count": null,
   "metadata": {
    "id": "eLPly476rFL5"
   },
   "outputs": [],
   "source": []
  },
  {
   "cell_type": "markdown",
   "metadata": {
    "id": "mJMwoTl_qd3u"
   },
   "source": [
    "### **Interpretando os coeficientes**"
   ]
  },
  {
   "cell_type": "code",
   "execution_count": null,
   "metadata": {
    "colab": {
     "base_uri": "https://localhost:8080/",
     "height": 175
    },
    "executionInfo": {
     "elapsed": 7,
     "status": "ok",
     "timestamp": 1717461433984,
     "user": {
      "displayName": "Afonso Augusto Rios",
      "userId": "05972796828124452071"
     },
     "user_tz": 180
    },
    "id": "UM56M3vArZOV",
    "outputId": "83852e72-9784-44bc-d4ef-8377aa804d2e"
   },
   "outputs": [],
   "source": []
  },
  {
   "cell_type": "markdown",
   "metadata": {
    "id": "xpmY4l8hrVD3"
   },
   "source": [
    "**Intercepto →** Excluindo o efeito de todas as variáveis explicativas, o efeito médio no Valor da Hospedagem, seria de **R$ ???**. (exp[???])\n",
    "\n",
    "**Área da hospedagem (m²)** → Mantendo-se os valores de todas as outras variáveis explicativas constantes, um acréscimo de 1% na Área da hospedagem gera, em média, um **acréscimo/decréscimo de ???** no Valor da Hospedagem.\n",
    "\n",
    "**Distância até a praia (km)** → Mantendo-se os valores de todas as outras variáveis explicativas constantes, um acréscimo de 1% na Distância até a praia gera, em média, um **acréscimo/decréscimo de ???** no Valor da Hospedagem.\n",
    "\n"
   ]
  },
  {
   "cell_type": "code",
   "execution_count": null,
   "metadata": {
    "colab": {
     "base_uri": "https://localhost:8080/"
    },
    "executionInfo": {
     "elapsed": 4,
     "status": "ok",
     "timestamp": 1717461461631,
     "user": {
      "displayName": "Afonso Augusto Rios",
      "userId": "05972796828124452071"
     },
     "user_tz": 180
    },
    "id": "jd35LdIK4oVC",
    "outputId": "26dd25d3-c2d4-4215-9b20-2b92a64c8c4e"
   },
   "outputs": [],
   "source": []
  },
  {
   "cell_type": "markdown",
   "metadata": {
    "id": "W-nD33lktLkI"
   },
   "source": [
    "> #### <strong><font color=\"#203f75\" size= 6>Observações:</font></strong>\n",
    "\n",
    "Adicione aqui suas hipóteses e interpretações dos dados!"
   ]
  },
  {
   "cell_type": "markdown",
   "metadata": {
    "id": "wWeXveGWqd7l"
   },
   "source": [
    "### **Analisando graficamente os resultados do modelo**"
   ]
  },
  {
   "cell_type": "code",
   "execution_count": null,
   "metadata": {
    "id": "d8ji1FdSq3nl"
   },
   "outputs": [],
   "source": []
  },
  {
   "cell_type": "code",
   "execution_count": null,
   "metadata": {
    "colab": {
     "base_uri": "https://localhost:8080/",
     "height": 514
    },
    "executionInfo": {
     "elapsed": 1960,
     "status": "ok",
     "timestamp": 1717461850519,
     "user": {
      "displayName": "Afonso Augusto Rios",
      "userId": "05972796828124452071"
     },
     "user_tz": 180
    },
    "id": "0GR9VeT0q4o5",
    "outputId": "b92a9fc4-c16e-491b-fe09-d5a2d51a1c51"
   },
   "outputs": [],
   "source": []
  },
  {
   "cell_type": "markdown",
   "metadata": {
    "id": "G6VQRn8StOuY"
   },
   "source": [
    "> #### <strong><font color=\"#203f75\" size= 6>Observações:</font></strong>\n",
    "\n",
    "Adicione aqui suas hipóteses e interpretações dos dados!"
   ]
  },
  {
   "cell_type": "code",
   "execution_count": null,
   "metadata": {
    "colab": {
     "base_uri": "https://localhost:8080/",
     "height": 514
    },
    "executionInfo": {
     "elapsed": 1519,
     "status": "ok",
     "timestamp": 1717461860074,
     "user": {
      "displayName": "Afonso Augusto Rios",
      "userId": "05972796828124452071"
     },
     "user_tz": 180
    },
    "id": "n42-C9zGs1Tr",
    "outputId": "4d1c5a43-be76-4f42-9117-e61b98498080"
   },
   "outputs": [],
   "source": []
  },
  {
   "cell_type": "code",
   "execution_count": null,
   "metadata": {
    "colab": {
     "base_uri": "https://localhost:8080/",
     "height": 506
    },
    "executionInfo": {
     "elapsed": 1383,
     "status": "ok",
     "timestamp": 1717461865203,
     "user": {
      "displayName": "Afonso Augusto Rios",
      "userId": "05972796828124452071"
     },
     "user_tz": 180
    },
    "id": "AKzpqA6as1Q3",
    "outputId": "156617d5-5b3f-42cd-e9fa-fee0356fe2b5"
   },
   "outputs": [],
   "source": []
  },
  {
   "cell_type": "markdown",
   "metadata": {
    "id": "_1jToHjDtShs"
   },
   "source": [
    "> #### <strong><font color=\"#203f75\" size= 6>Observações:</font></strong>\n",
    "\n",
    "Adicione aqui suas hipóteses e interpretações dos dados!"
   ]
  },
  {
   "cell_type": "markdown",
   "metadata": {
    "id": "LVNG9wKjqwpc"
   },
   "source": [
    "### **Aplicando o modelo para precificar mais hospedagens**"
   ]
  },
  {
   "cell_type": "code",
   "execution_count": null,
   "metadata": {
    "colab": {
     "base_uri": "https://localhost:8080/",
     "height": 363
    },
    "executionInfo": {
     "elapsed": 447,
     "status": "ok",
     "timestamp": 1717462666089,
     "user": {
      "displayName": "Afonso Augusto Rios",
      "userId": "05972796828124452071"
     },
     "user_tz": 180
    },
    "id": "lvzFJuh0u0XP",
    "outputId": "5db3b637-ccec-4be9-fdc5-ac95dcf3f527"
   },
   "outputs": [
    {
     "data": {
      "application/vnd.google.colaboratory.intrinsic+json": {
       "summary": "{\n  \"name\": \"hospedagens\",\n  \"rows\": 10,\n  \"fields\": [\n    {\n      \"column\": \"area\",\n      \"properties\": {\n        \"dtype\": \"number\",\n        \"std\": 123,\n        \"min\": 150,\n        \"max\": 500,\n        \"num_unique_values\": 9,\n        \"samples\": [\n          300,\n          360,\n          280\n        ],\n        \"semantic_type\": \"\",\n        \"description\": \"\"\n      }\n    },\n    {\n      \"column\": \"dist_praia\",\n      \"properties\": {\n        \"dtype\": \"number\",\n        \"std\": 2.1788121126481337,\n        \"min\": 0.5,\n        \"max\": 6.0,\n        \"num_unique_values\": 8,\n        \"samples\": [\n          2.0,\n          6.0,\n          5.5\n        ],\n        \"semantic_type\": \"\",\n        \"description\": \"\"\n      }\n    },\n    {\n      \"column\": \"piscina\",\n      \"properties\": {\n        \"dtype\": \"number\",\n        \"std\": 0,\n        \"min\": 0,\n        \"max\": 1,\n        \"num_unique_values\": 2,\n        \"samples\": [\n          0,\n          1\n        ],\n        \"semantic_type\": \"\",\n        \"description\": \"\"\n      }\n    }\n  ]\n}",
       "type": "dataframe",
       "variable_name": "hospedagens"
      },
      "text/html": [
       "\n",
       "  <div id=\"df-fa75fb92-7a2e-4ba5-80e4-33c101d042fa\" class=\"colab-df-container\">\n",
       "    <div>\n",
       "<style scoped>\n",
       "    .dataframe tbody tr th:only-of-type {\n",
       "        vertical-align: middle;\n",
       "    }\n",
       "\n",
       "    .dataframe tbody tr th {\n",
       "        vertical-align: top;\n",
       "    }\n",
       "\n",
       "    .dataframe thead th {\n",
       "        text-align: right;\n",
       "    }\n",
       "</style>\n",
       "<table border=\"1\" class=\"dataframe\">\n",
       "  <thead>\n",
       "    <tr style=\"text-align: right;\">\n",
       "      <th></th>\n",
       "      <th>area</th>\n",
       "      <th>dist_praia</th>\n",
       "      <th>piscina</th>\n",
       "    </tr>\n",
       "  </thead>\n",
       "  <tbody>\n",
       "    <tr>\n",
       "      <th>0</th>\n",
       "      <td>460</td>\n",
       "      <td>5.5</td>\n",
       "      <td>1</td>\n",
       "    </tr>\n",
       "    <tr>\n",
       "      <th>1</th>\n",
       "      <td>360</td>\n",
       "      <td>2.0</td>\n",
       "      <td>0</td>\n",
       "    </tr>\n",
       "    <tr>\n",
       "      <th>2</th>\n",
       "      <td>220</td>\n",
       "      <td>4.0</td>\n",
       "      <td>0</td>\n",
       "    </tr>\n",
       "    <tr>\n",
       "      <th>3</th>\n",
       "      <td>500</td>\n",
       "      <td>1.5</td>\n",
       "      <td>1</td>\n",
       "    </tr>\n",
       "    <tr>\n",
       "      <th>4</th>\n",
       "      <td>150</td>\n",
       "      <td>1.0</td>\n",
       "      <td>0</td>\n",
       "    </tr>\n",
       "    <tr>\n",
       "      <th>5</th>\n",
       "      <td>280</td>\n",
       "      <td>6.0</td>\n",
       "      <td>0</td>\n",
       "    </tr>\n",
       "    <tr>\n",
       "      <th>6</th>\n",
       "      <td>460</td>\n",
       "      <td>3.0</td>\n",
       "      <td>1</td>\n",
       "    </tr>\n",
       "    <tr>\n",
       "      <th>7</th>\n",
       "      <td>260</td>\n",
       "      <td>1.0</td>\n",
       "      <td>0</td>\n",
       "    </tr>\n",
       "    <tr>\n",
       "      <th>8</th>\n",
       "      <td>300</td>\n",
       "      <td>0.5</td>\n",
       "      <td>0</td>\n",
       "    </tr>\n",
       "    <tr>\n",
       "      <th>9</th>\n",
       "      <td>180</td>\n",
       "      <td>6.0</td>\n",
       "      <td>1</td>\n",
       "    </tr>\n",
       "  </tbody>\n",
       "</table>\n",
       "</div>\n",
       "    <div class=\"colab-df-buttons\">\n",
       "\n",
       "  <div class=\"colab-df-container\">\n",
       "    <button class=\"colab-df-convert\" onclick=\"convertToInteractive('df-fa75fb92-7a2e-4ba5-80e4-33c101d042fa')\"\n",
       "            title=\"Convert this dataframe to an interactive table.\"\n",
       "            style=\"display:none;\">\n",
       "\n",
       "  <svg xmlns=\"http://www.w3.org/2000/svg\" height=\"24px\" viewBox=\"0 -960 960 960\">\n",
       "    <path d=\"M120-120v-720h720v720H120Zm60-500h600v-160H180v160Zm220 220h160v-160H400v160Zm0 220h160v-160H400v160ZM180-400h160v-160H180v160Zm440 0h160v-160H620v160ZM180-180h160v-160H180v160Zm440 0h160v-160H620v160Z\"/>\n",
       "  </svg>\n",
       "    </button>\n",
       "\n",
       "  <style>\n",
       "    .colab-df-container {\n",
       "      display:flex;\n",
       "      gap: 12px;\n",
       "    }\n",
       "\n",
       "    .colab-df-convert {\n",
       "      background-color: #E8F0FE;\n",
       "      border: none;\n",
       "      border-radius: 50%;\n",
       "      cursor: pointer;\n",
       "      display: none;\n",
       "      fill: #1967D2;\n",
       "      height: 32px;\n",
       "      padding: 0 0 0 0;\n",
       "      width: 32px;\n",
       "    }\n",
       "\n",
       "    .colab-df-convert:hover {\n",
       "      background-color: #E2EBFA;\n",
       "      box-shadow: 0px 1px 2px rgba(60, 64, 67, 0.3), 0px 1px 3px 1px rgba(60, 64, 67, 0.15);\n",
       "      fill: #174EA6;\n",
       "    }\n",
       "\n",
       "    .colab-df-buttons div {\n",
       "      margin-bottom: 4px;\n",
       "    }\n",
       "\n",
       "    [theme=dark] .colab-df-convert {\n",
       "      background-color: #3B4455;\n",
       "      fill: #D2E3FC;\n",
       "    }\n",
       "\n",
       "    [theme=dark] .colab-df-convert:hover {\n",
       "      background-color: #434B5C;\n",
       "      box-shadow: 0px 1px 3px 1px rgba(0, 0, 0, 0.15);\n",
       "      filter: drop-shadow(0px 1px 2px rgba(0, 0, 0, 0.3));\n",
       "      fill: #FFFFFF;\n",
       "    }\n",
       "  </style>\n",
       "\n",
       "    <script>\n",
       "      const buttonEl =\n",
       "        document.querySelector('#df-fa75fb92-7a2e-4ba5-80e4-33c101d042fa button.colab-df-convert');\n",
       "      buttonEl.style.display =\n",
       "        google.colab.kernel.accessAllowed ? 'block' : 'none';\n",
       "\n",
       "      async function convertToInteractive(key) {\n",
       "        const element = document.querySelector('#df-fa75fb92-7a2e-4ba5-80e4-33c101d042fa');\n",
       "        const dataTable =\n",
       "          await google.colab.kernel.invokeFunction('convertToInteractive',\n",
       "                                                    [key], {});\n",
       "        if (!dataTable) return;\n",
       "\n",
       "        const docLinkHtml = 'Like what you see? Visit the ' +\n",
       "          '<a target=\"_blank\" href=https://colab.research.google.com/notebooks/data_table.ipynb>data table notebook</a>'\n",
       "          + ' to learn more about interactive tables.';\n",
       "        element.innerHTML = '';\n",
       "        dataTable['output_type'] = 'display_data';\n",
       "        await google.colab.output.renderOutput(dataTable, element);\n",
       "        const docLink = document.createElement('div');\n",
       "        docLink.innerHTML = docLinkHtml;\n",
       "        element.appendChild(docLink);\n",
       "      }\n",
       "    </script>\n",
       "  </div>\n",
       "\n",
       "\n",
       "<div id=\"df-c6a17ede-2da4-40ac-9e3a-2019b28e78b7\">\n",
       "  <button class=\"colab-df-quickchart\" onclick=\"quickchart('df-c6a17ede-2da4-40ac-9e3a-2019b28e78b7')\"\n",
       "            title=\"Suggest charts\"\n",
       "            style=\"display:none;\">\n",
       "\n",
       "<svg xmlns=\"http://www.w3.org/2000/svg\" height=\"24px\"viewBox=\"0 0 24 24\"\n",
       "     width=\"24px\">\n",
       "    <g>\n",
       "        <path d=\"M19 3H5c-1.1 0-2 .9-2 2v14c0 1.1.9 2 2 2h14c1.1 0 2-.9 2-2V5c0-1.1-.9-2-2-2zM9 17H7v-7h2v7zm4 0h-2V7h2v10zm4 0h-2v-4h2v4z\"/>\n",
       "    </g>\n",
       "</svg>\n",
       "  </button>\n",
       "\n",
       "<style>\n",
       "  .colab-df-quickchart {\n",
       "      --bg-color: #E8F0FE;\n",
       "      --fill-color: #1967D2;\n",
       "      --hover-bg-color: #E2EBFA;\n",
       "      --hover-fill-color: #174EA6;\n",
       "      --disabled-fill-color: #AAA;\n",
       "      --disabled-bg-color: #DDD;\n",
       "  }\n",
       "\n",
       "  [theme=dark] .colab-df-quickchart {\n",
       "      --bg-color: #3B4455;\n",
       "      --fill-color: #D2E3FC;\n",
       "      --hover-bg-color: #434B5C;\n",
       "      --hover-fill-color: #FFFFFF;\n",
       "      --disabled-bg-color: #3B4455;\n",
       "      --disabled-fill-color: #666;\n",
       "  }\n",
       "\n",
       "  .colab-df-quickchart {\n",
       "    background-color: var(--bg-color);\n",
       "    border: none;\n",
       "    border-radius: 50%;\n",
       "    cursor: pointer;\n",
       "    display: none;\n",
       "    fill: var(--fill-color);\n",
       "    height: 32px;\n",
       "    padding: 0;\n",
       "    width: 32px;\n",
       "  }\n",
       "\n",
       "  .colab-df-quickchart:hover {\n",
       "    background-color: var(--hover-bg-color);\n",
       "    box-shadow: 0 1px 2px rgba(60, 64, 67, 0.3), 0 1px 3px 1px rgba(60, 64, 67, 0.15);\n",
       "    fill: var(--button-hover-fill-color);\n",
       "  }\n",
       "\n",
       "  .colab-df-quickchart-complete:disabled,\n",
       "  .colab-df-quickchart-complete:disabled:hover {\n",
       "    background-color: var(--disabled-bg-color);\n",
       "    fill: var(--disabled-fill-color);\n",
       "    box-shadow: none;\n",
       "  }\n",
       "\n",
       "  .colab-df-spinner {\n",
       "    border: 2px solid var(--fill-color);\n",
       "    border-color: transparent;\n",
       "    border-bottom-color: var(--fill-color);\n",
       "    animation:\n",
       "      spin 1s steps(1) infinite;\n",
       "  }\n",
       "\n",
       "  @keyframes spin {\n",
       "    0% {\n",
       "      border-color: transparent;\n",
       "      border-bottom-color: var(--fill-color);\n",
       "      border-left-color: var(--fill-color);\n",
       "    }\n",
       "    20% {\n",
       "      border-color: transparent;\n",
       "      border-left-color: var(--fill-color);\n",
       "      border-top-color: var(--fill-color);\n",
       "    }\n",
       "    30% {\n",
       "      border-color: transparent;\n",
       "      border-left-color: var(--fill-color);\n",
       "      border-top-color: var(--fill-color);\n",
       "      border-right-color: var(--fill-color);\n",
       "    }\n",
       "    40% {\n",
       "      border-color: transparent;\n",
       "      border-right-color: var(--fill-color);\n",
       "      border-top-color: var(--fill-color);\n",
       "    }\n",
       "    60% {\n",
       "      border-color: transparent;\n",
       "      border-right-color: var(--fill-color);\n",
       "    }\n",
       "    80% {\n",
       "      border-color: transparent;\n",
       "      border-right-color: var(--fill-color);\n",
       "      border-bottom-color: var(--fill-color);\n",
       "    }\n",
       "    90% {\n",
       "      border-color: transparent;\n",
       "      border-bottom-color: var(--fill-color);\n",
       "    }\n",
       "  }\n",
       "</style>\n",
       "\n",
       "  <script>\n",
       "    async function quickchart(key) {\n",
       "      const quickchartButtonEl =\n",
       "        document.querySelector('#' + key + ' button');\n",
       "      quickchartButtonEl.disabled = true;  // To prevent multiple clicks.\n",
       "      quickchartButtonEl.classList.add('colab-df-spinner');\n",
       "      try {\n",
       "        const charts = await google.colab.kernel.invokeFunction(\n",
       "            'suggestCharts', [key], {});\n",
       "      } catch (error) {\n",
       "        console.error('Error during call to suggestCharts:', error);\n",
       "      }\n",
       "      quickchartButtonEl.classList.remove('colab-df-spinner');\n",
       "      quickchartButtonEl.classList.add('colab-df-quickchart-complete');\n",
       "    }\n",
       "    (() => {\n",
       "      let quickchartButtonEl =\n",
       "        document.querySelector('#df-c6a17ede-2da4-40ac-9e3a-2019b28e78b7 button');\n",
       "      quickchartButtonEl.style.display =\n",
       "        google.colab.kernel.accessAllowed ? 'block' : 'none';\n",
       "    })();\n",
       "  </script>\n",
       "</div>\n",
       "\n",
       "  <div id=\"id_e654b707-47e7-4ca1-a6fc-34f291e59093\">\n",
       "    <style>\n",
       "      .colab-df-generate {\n",
       "        background-color: #E8F0FE;\n",
       "        border: none;\n",
       "        border-radius: 50%;\n",
       "        cursor: pointer;\n",
       "        display: none;\n",
       "        fill: #1967D2;\n",
       "        height: 32px;\n",
       "        padding: 0 0 0 0;\n",
       "        width: 32px;\n",
       "      }\n",
       "\n",
       "      .colab-df-generate:hover {\n",
       "        background-color: #E2EBFA;\n",
       "        box-shadow: 0px 1px 2px rgba(60, 64, 67, 0.3), 0px 1px 3px 1px rgba(60, 64, 67, 0.15);\n",
       "        fill: #174EA6;\n",
       "      }\n",
       "\n",
       "      [theme=dark] .colab-df-generate {\n",
       "        background-color: #3B4455;\n",
       "        fill: #D2E3FC;\n",
       "      }\n",
       "\n",
       "      [theme=dark] .colab-df-generate:hover {\n",
       "        background-color: #434B5C;\n",
       "        box-shadow: 0px 1px 3px 1px rgba(0, 0, 0, 0.15);\n",
       "        filter: drop-shadow(0px 1px 2px rgba(0, 0, 0, 0.3));\n",
       "        fill: #FFFFFF;\n",
       "      }\n",
       "    </style>\n",
       "    <button class=\"colab-df-generate\" onclick=\"generateWithVariable('hospedagens')\"\n",
       "            title=\"Generate code using this dataframe.\"\n",
       "            style=\"display:none;\">\n",
       "\n",
       "  <svg xmlns=\"http://www.w3.org/2000/svg\" height=\"24px\"viewBox=\"0 0 24 24\"\n",
       "       width=\"24px\">\n",
       "    <path d=\"M7,19H8.4L18.45,9,17,7.55,7,17.6ZM5,21V16.75L18.45,3.32a2,2,0,0,1,2.83,0l1.4,1.43a1.91,1.91,0,0,1,.58,1.4,1.91,1.91,0,0,1-.58,1.4L9.25,21ZM18.45,9,17,7.55Zm-12,3A5.31,5.31,0,0,0,4.9,8.1,5.31,5.31,0,0,0,1,6.5,5.31,5.31,0,0,0,4.9,4.9,5.31,5.31,0,0,0,6.5,1,5.31,5.31,0,0,0,8.1,4.9,5.31,5.31,0,0,0,12,6.5,5.46,5.46,0,0,0,6.5,12Z\"/>\n",
       "  </svg>\n",
       "    </button>\n",
       "    <script>\n",
       "      (() => {\n",
       "      const buttonEl =\n",
       "        document.querySelector('#id_e654b707-47e7-4ca1-a6fc-34f291e59093 button.colab-df-generate');\n",
       "      buttonEl.style.display =\n",
       "        google.colab.kernel.accessAllowed ? 'block' : 'none';\n",
       "\n",
       "      buttonEl.onclick = () => {\n",
       "        google.colab.notebook.generateWithVariable('hospedagens');\n",
       "      }\n",
       "      })();\n",
       "    </script>\n",
       "  </div>\n",
       "\n",
       "    </div>\n",
       "  </div>\n"
      ],
      "text/plain": [
       "   area  dist_praia  piscina\n",
       "0   460         5.5        1\n",
       "1   360         2.0        0\n",
       "2   220         4.0        0\n",
       "3   500         1.5        1\n",
       "4   150         1.0        0\n",
       "5   280         6.0        0\n",
       "6   460         3.0        1\n",
       "7   260         1.0        0\n",
       "8   300         0.5        0\n",
       "9   180         6.0        1"
      ]
     },
     "execution_count": 191,
     "metadata": {},
     "output_type": "execute_result"
    }
   ],
   "source": [
    "# Hospedagens a precificar:\n",
    "hospedagens = pd.DataFrame({\n",
    "    'area': [460, 360, 220, 500, 150, 280, 460, 260, 300, 180],\n",
    "    'dist_praia': [5.5, 2.0 , 4.0 , 1.5, 1.0 , 6.0 , 3.0 , 1.0 , 0.5, 6.0 ],\n",
    "    'piscina': [1, 0, 0, 1, 0, 0, 1, 0, 0, 1] })\n",
    "hospedagens"
   ]
  },
  {
   "cell_type": "code",
   "execution_count": null,
   "metadata": {
    "id": "Vl7nE2HY4oVC"
   },
   "outputs": [],
   "source": []
  },
  {
   "cell_type": "code",
   "execution_count": null,
   "metadata": {
    "id": "3QoG8H0Y4oVC"
   },
   "outputs": [],
   "source": []
  },
  {
   "cell_type": "code",
   "execution_count": null,
   "metadata": {
    "colab": {
     "base_uri": "https://localhost:8080/"
    },
    "executionInfo": {
     "elapsed": 382,
     "status": "ok",
     "timestamp": 1717462768003,
     "user": {
      "displayName": "Afonso Augusto Rios",
      "userId": "05972796828124452071"
     },
     "user_tz": 180
    },
    "id": "viR7b0eftf1X",
    "outputId": "62355675-8e96-4cd8-e641-74d17e5ef34f"
   },
   "outputs": [],
   "source": []
  },
  {
   "cell_type": "code",
   "execution_count": null,
   "metadata": {
    "colab": {
     "base_uri": "https://localhost:8080/"
    },
    "executionInfo": {
     "elapsed": 524,
     "status": "ok",
     "timestamp": 1717462900304,
     "user": {
      "displayName": "Afonso Augusto Rios",
      "userId": "05972796828124452071"
     },
     "user_tz": 180
    },
    "id": "Nk2H2p3rtfyw",
    "outputId": "b331b7b4-2270-4d88-9e2c-135bc9792e97"
   },
   "outputs": [],
   "source": []
  }
 ],
 "metadata": {
  "colab": {
   "authorship_tag": "ABX9TyPlOtpV1bjuipTqjwRQEMQi",
   "provenance": []
  },
  "kernelspec": {
   "display_name": "Python 3 (ipykernel)",
   "language": "python",
   "name": "python3"
  },
  "language_info": {
   "codemirror_mode": {
    "name": "ipython",
    "version": 3
   },
   "file_extension": ".py",
   "mimetype": "text/x-python",
   "name": "python",
   "nbconvert_exporter": "python",
   "pygments_lexer": "ipython3",
   "version": "3.10.12"
  }
 },
 "nbformat": 4,
 "nbformat_minor": 4
}
