{
 "cells": [
  {
   "cell_type": "markdown",
   "metadata": {
    "id": "nS-Yml8FoMzs"
   },
   "source": [
    "# Projeto de precificação do valor cobrado para entrega de esculturas\n",
    "\n",
    "![](https://github.com/Mirlaa/regressao-arvores/blob/main/imagens-projeto/imagem-do-projeto-inicio.png?raw=true)"
   ]
  },
  {
   "cell_type": "markdown",
   "metadata": {
    "id": "j9NZ9JM-8F08"
   },
   "source": [
    "# Aula 1 - Trabalhando com os dados"
   ]
  },
  {
   "cell_type": "code",
   "execution_count": 1,
   "metadata": {},
   "outputs": [],
   "source": [
    "url = 'https://raw.githubusercontent.com/Mirlaa/regressao-arvores/main/dados_curso/entregas.csv'\n",
    "\n",
    "caminho_teste = 'https://raw.githubusercontent.com/Mirlaa/regressao-arvores/main/dados_curso/teste_entregas.csv'\n"
   ]
  },
  {
   "cell_type": "code",
   "execution_count": 2,
   "metadata": {
    "id": "8IfeGv0REola"
   },
   "outputs": [],
   "source": [
    "import pandas as pd\n",
    "import numpy as np"
   ]
  },
  {
   "cell_type": "code",
   "execution_count": 3,
   "metadata": {
    "id": "CWtRXwaQEofl"
   },
   "outputs": [
    {
     "data": {
      "text/html": [
       "<div>\n",
       "<style scoped>\n",
       "    .dataframe tbody tr th:only-of-type {\n",
       "        vertical-align: middle;\n",
       "    }\n",
       "\n",
       "    .dataframe tbody tr th {\n",
       "        vertical-align: top;\n",
       "    }\n",
       "\n",
       "    .dataframe thead th {\n",
       "        text-align: right;\n",
       "    }\n",
       "</style>\n",
       "<table border=\"1\" class=\"dataframe\">\n",
       "  <thead>\n",
       "    <tr style=\"text-align: right;\">\n",
       "      <th></th>\n",
       "      <th>id_cliente</th>\n",
       "      <th>nome_artista</th>\n",
       "      <th>reputacao_artista</th>\n",
       "      <th>altura</th>\n",
       "      <th>largura</th>\n",
       "      <th>peso</th>\n",
       "      <th>material</th>\n",
       "      <th>preco_escultura</th>\n",
       "      <th>preco_base_envio</th>\n",
       "      <th>internacional</th>\n",
       "      <th>envio_expresso</th>\n",
       "      <th>instalacao_incluida</th>\n",
       "      <th>transporte</th>\n",
       "      <th>fragil</th>\n",
       "      <th>pedido_extra_cliente</th>\n",
       "      <th>localizacao_remota</th>\n",
       "      <th>data_agendada</th>\n",
       "      <th>data_entrega</th>\n",
       "      <th>custo</th>\n",
       "    </tr>\n",
       "  </thead>\n",
       "  <tbody>\n",
       "    <tr>\n",
       "      <th>0</th>\n",
       "      <td>e9dff114-bc2b-47e9-9f5c-669e32ad9bbe</td>\n",
       "      <td>Billy Jenkins</td>\n",
       "      <td>0.26</td>\n",
       "      <td>5.1816</td>\n",
       "      <td>1.8288</td>\n",
       "      <td>1872.427776</td>\n",
       "      <td>Latão</td>\n",
       "      <td>73027.5</td>\n",
       "      <td>85.4175</td>\n",
       "      <td>Sim</td>\n",
       "      <td>Sim</td>\n",
       "      <td>Não</td>\n",
       "      <td>Aéreo</td>\n",
       "      <td>Não</td>\n",
       "      <td>Sim</td>\n",
       "      <td>Não</td>\n",
       "      <td>07/06/19</td>\n",
       "      <td>03/06/19</td>\n",
       "      <td>1487.2725</td>\n",
       "    </tr>\n",
       "    <tr>\n",
       "      <th>1</th>\n",
       "      <td>ba3b707f-b123-4eec-93f4-1fbebfe72b68</td>\n",
       "      <td>Jean Bryant</td>\n",
       "      <td>0.28</td>\n",
       "      <td>0.9144</td>\n",
       "      <td>0.9144</td>\n",
       "      <td>27.669112</td>\n",
       "      <td>Latão</td>\n",
       "      <td>35857.5</td>\n",
       "      <td>78.7500</td>\n",
       "      <td>Não</td>\n",
       "      <td>Não</td>\n",
       "      <td>Não</td>\n",
       "      <td>Rodoviário</td>\n",
       "      <td>Não</td>\n",
       "      <td>Sim</td>\n",
       "      <td>Não</td>\n",
       "      <td>06/03/21</td>\n",
       "      <td>05/03/21</td>\n",
       "      <td>839.7900</td>\n",
       "    </tr>\n",
       "    <tr>\n",
       "      <th>2</th>\n",
       "      <td>c4212086-3e22-489e-bc2e-0d5092ef0526</td>\n",
       "      <td>Laura Miller</td>\n",
       "      <td>0.07</td>\n",
       "      <td>2.4384</td>\n",
       "      <td>1.5240</td>\n",
       "      <td>107.501304</td>\n",
       "      <td>Argila</td>\n",
       "      <td>26040.0</td>\n",
       "      <td>111.1950</td>\n",
       "      <td>Não</td>\n",
       "      <td>Não</td>\n",
       "      <td>Não</td>\n",
       "      <td>Rodoviário</td>\n",
       "      <td>Sim</td>\n",
       "      <td>Sim</td>\n",
       "      <td>Sim</td>\n",
       "      <td>09/03/19</td>\n",
       "      <td>08/03/19</td>\n",
       "      <td>810.0225</td>\n",
       "    </tr>\n",
       "    <tr>\n",
       "      <th>3</th>\n",
       "      <td>fec1bee9-44cf-498f-a849-5e5e2cab062b</td>\n",
       "      <td>Robert Chaires</td>\n",
       "      <td>0.12</td>\n",
       "      <td>2.7432</td>\n",
       "      <td>2.4384</td>\n",
       "      <td>1407.042384</td>\n",
       "      <td>Alumínio</td>\n",
       "      <td>30502.5</td>\n",
       "      <td>85.6275</td>\n",
       "      <td>Não</td>\n",
       "      <td>Não</td>\n",
       "      <td>Não</td>\n",
       "      <td>Não especificado</td>\n",
       "      <td>Não</td>\n",
       "      <td>Não</td>\n",
       "      <td>Sim</td>\n",
       "      <td>24/05/19</td>\n",
       "      <td>20/05/19</td>\n",
       "      <td>846.0900</td>\n",
       "    </tr>\n",
       "    <tr>\n",
       "      <th>4</th>\n",
       "      <td>f9f2ed8c-7f56-4e69-a80e-cb01d0a711da</td>\n",
       "      <td>Rosalyn Krol</td>\n",
       "      <td>0.15</td>\n",
       "      <td>5.1816</td>\n",
       "      <td>1.8288</td>\n",
       "      <td>146.963808</td>\n",
       "      <td>Alumínio</td>\n",
       "      <td>16695.0</td>\n",
       "      <td>62.6850</td>\n",
       "      <td>Sim</td>\n",
       "      <td>Sim</td>\n",
       "      <td>Sim</td>\n",
       "      <td>Aéreo</td>\n",
       "      <td>Não</td>\n",
       "      <td>Sim</td>\n",
       "      <td>Não</td>\n",
       "      <td>18/12/20</td>\n",
       "      <td>14/12/20</td>\n",
       "      <td>835.9575</td>\n",
       "    </tr>\n",
       "  </tbody>\n",
       "</table>\n",
       "</div>"
      ],
      "text/plain": [
       "                             id_cliente    nome_artista  reputacao_artista  \\\n",
       "0  e9dff114-bc2b-47e9-9f5c-669e32ad9bbe   Billy Jenkins               0.26   \n",
       "1  ba3b707f-b123-4eec-93f4-1fbebfe72b68     Jean Bryant               0.28   \n",
       "2  c4212086-3e22-489e-bc2e-0d5092ef0526    Laura Miller               0.07   \n",
       "3  fec1bee9-44cf-498f-a849-5e5e2cab062b  Robert Chaires               0.12   \n",
       "4  f9f2ed8c-7f56-4e69-a80e-cb01d0a711da    Rosalyn Krol               0.15   \n",
       "\n",
       "   altura  largura         peso  material  preco_escultura  preco_base_envio  \\\n",
       "0  5.1816   1.8288  1872.427776     Latão          73027.5           85.4175   \n",
       "1  0.9144   0.9144    27.669112     Latão          35857.5           78.7500   \n",
       "2  2.4384   1.5240   107.501304    Argila          26040.0          111.1950   \n",
       "3  2.7432   2.4384  1407.042384  Alumínio          30502.5           85.6275   \n",
       "4  5.1816   1.8288   146.963808  Alumínio          16695.0           62.6850   \n",
       "\n",
       "  internacional envio_expresso instalacao_incluida        transporte fragil  \\\n",
       "0           Sim            Sim                 Não             Aéreo    Não   \n",
       "1           Não            Não                 Não        Rodoviário    Não   \n",
       "2           Não            Não                 Não        Rodoviário    Sim   \n",
       "3           Não            Não                 Não  Não especificado    Não   \n",
       "4           Sim            Sim                 Sim             Aéreo    Não   \n",
       "\n",
       "  pedido_extra_cliente localizacao_remota data_agendada data_entrega  \\\n",
       "0                  Sim                Não      07/06/19     03/06/19   \n",
       "1                  Sim                Não      06/03/21     05/03/21   \n",
       "2                  Sim                Sim      09/03/19     08/03/19   \n",
       "3                  Não                Sim      24/05/19     20/05/19   \n",
       "4                  Sim                Não      18/12/20     14/12/20   \n",
       "\n",
       "       custo  \n",
       "0  1487.2725  \n",
       "1   839.7900  \n",
       "2   810.0225  \n",
       "3   846.0900  \n",
       "4   835.9575  "
      ]
     },
     "execution_count": 3,
     "metadata": {},
     "output_type": "execute_result"
    }
   ],
   "source": [
    "dados = pd.read_csv(url)\n",
    "dados.head()"
   ]
  },
  {
   "cell_type": "markdown",
   "metadata": {
    "id": "xeqr9KoQ-Vz8"
   },
   "source": [
    "Dicionário de dados:\n",
    "\n",
    "| Nome da Coluna       | Descrição                                                      |\n",
    "|----------------------|----------------------------------------------------------------|\n",
    "| id_cliente        | Representa o número de identificação único dos clientes        |\n",
    "| nome_artista      | Representa o nome do artista                                   |\n",
    "| reputacao_artista | Representa a reputação de um artista no mercado (quanto maior o valor da reputação, maior a reputação do artista no mercado) |\n",
    "| altura               | Representa a altura da escultura em metros                     |\n",
    "| largura              | Representa a largura da escultura em metros                     |\n",
    "| peso                 | Representa o peso da escultura em quilos                       |\n",
    "| material             | Representa o material do qual a escultura é feita              |\n",
    "| preco_escultura   | Representa o preço da escultura         |\n",
    "| preco_base_envio  | Representa o preço base para o envio de uma escultura          |\n",
    "| internacional        | Indica se o envio é internacional                              |\n",
    "| envio_expresso       | Indica se o envio foi no modo expresso (rápido)    |\n",
    "| instalacao_incluida  | Indica se a instalação estava incluída na compra da escultura  |\n",
    "| transporte           | Representa o modo de transporte do pedido                      |\n",
    "| fragil               | Indica se o pedido é frágil                                    |\n",
    "| pedido_extra_cliente | Representa se o cliente deixou detalhes a mais para entrega     |\n",
    "| data_agendada        | Representa a data de previsão de entrega        |\n",
    "| data_entrega      | Representa a data de entrega do pedido          |\n",
    "| custo                | Representa o custo do envio do pedido      |"
   ]
  },
  {
   "cell_type": "code",
   "execution_count": 4,
   "metadata": {
    "id": "w7Bk90u9EoYt"
   },
   "outputs": [
    {
     "name": "stdout",
     "output_type": "stream",
     "text": [
      "<class 'pandas.core.frame.DataFrame'>\n",
      "RangeIndex: 4462 entries, 0 to 4461\n",
      "Data columns (total 19 columns):\n",
      " #   Column                Non-Null Count  Dtype  \n",
      "---  ------                --------------  -----  \n",
      " 0   id_cliente            4462 non-null   object \n",
      " 1   nome_artista          4462 non-null   object \n",
      " 2   reputacao_artista     4462 non-null   float64\n",
      " 3   altura                4462 non-null   float64\n",
      " 4   largura               4462 non-null   float64\n",
      " 5   peso                  4462 non-null   float64\n",
      " 6   material              4462 non-null   object \n",
      " 7   preco_escultura       4462 non-null   float64\n",
      " 8   preco_base_envio      4462 non-null   float64\n",
      " 9   internacional         4462 non-null   object \n",
      " 10  envio_expresso        4462 non-null   object \n",
      " 11  instalacao_incluida   4462 non-null   object \n",
      " 12  transporte            4462 non-null   object \n",
      " 13  fragil                4462 non-null   object \n",
      " 14  pedido_extra_cliente  4462 non-null   object \n",
      " 15  localizacao_remota    4462 non-null   object \n",
      " 16  data_agendada         4462 non-null   object \n",
      " 17  data_entrega          4462 non-null   object \n",
      " 18  custo                 4462 non-null   float64\n",
      "dtypes: float64(7), object(12)\n",
      "memory usage: 662.5+ KB\n"
     ]
    }
   ],
   "source": [
    "dados.info()"
   ]
  },
  {
   "cell_type": "markdown",
   "metadata": {
    "id": "gRCWZHLj-t_C"
   },
   "source": [
    "**ENTENDENDO AS COLUNAS**\n",
    "\n",
    "**Dado numérico:**\n",
    "- `'reputacao_artista'`, `'altura'`, `'largura'`, `'peso'`, `'preco_escultura'`, `'preco_base_envio'`.\n",
    "\n",
    "**Categóricas:**\n",
    "\n",
    "- `'id_cliente'`, `'nome_artista'`, `'material'`, `'internacional'`, `'envio_expresso'`, `'instalacao_incluida'`, `'transporte'`, `'fragil'`, `'pedido_extra_cliente'`, `localizacao_remota`.\n",
    "\n",
    "**Datas:**\n",
    "\n",
    "- `'data_agendada'`, `'data_entrega'`.\n",
    "\n",
    "**Alvo:**\n",
    "- `'custo'`."
   ]
  },
  {
   "cell_type": "code",
   "execution_count": 5,
   "metadata": {
    "id": "9TpQZNz7ESQt"
   },
   "outputs": [],
   "source": [
    "df = dados.copy()"
   ]
  },
  {
   "cell_type": "code",
   "execution_count": 6,
   "metadata": {
    "id": "Y6u-UIhnESgb"
   },
   "outputs": [],
   "source": [
    "df['data_agendada'] = pd.to_datetime(df['data_agendada'], format = '%d/%m/%y')\n",
    "df['data_entrega'] = pd.to_datetime(df['data_entrega'], format = '%d/%m/%y')"
   ]
  },
  {
   "cell_type": "code",
   "execution_count": 7,
   "metadata": {
    "id": "GDOY7wkRES7M"
   },
   "outputs": [],
   "source": [
    "df['diferenca_dias_entrega'] = (df['data_entrega'] - df['data_agendada']).dt.days"
   ]
  },
  {
   "cell_type": "code",
   "execution_count": 8,
   "metadata": {
    "id": "Lg4TpBrkETYr"
   },
   "outputs": [],
   "source": [
    "df['data_agendada_dias'] = df['data_agendada'].dt.day\n",
    "df['data_agendada_mes'] = df['data_agendada'].dt.month\n",
    "df['data_agendada_ano'] = df['data_agendada'].dt.year"
   ]
  },
  {
   "cell_type": "code",
   "execution_count": 9,
   "metadata": {
    "id": "VrIjDce6ETvm"
   },
   "outputs": [],
   "source": [
    "df['data_entrega_dias'] = df['data_entrega'].dt.day\n",
    "df['data_entrega_mes'] = df['data_entrega'].dt.month\n",
    "df['data_entrega_ano'] = df['data_entrega'].dt.year"
   ]
  },
  {
   "cell_type": "code",
   "execution_count": 10,
   "metadata": {
    "id": "36nh3YYcEUHw"
   },
   "outputs": [],
   "source": [
    "df.drop(['data_agendada', 'data_entrega'], axis=1, inplace=True)"
   ]
  },
  {
   "cell_type": "code",
   "execution_count": 11,
   "metadata": {
    "id": "mUnTnjMjEVVp"
   },
   "outputs": [
    {
     "name": "stdout",
     "output_type": "stream",
     "text": [
      "<class 'pandas.core.frame.DataFrame'>\n",
      "RangeIndex: 4462 entries, 0 to 4461\n",
      "Data columns (total 24 columns):\n",
      " #   Column                  Non-Null Count  Dtype  \n",
      "---  ------                  --------------  -----  \n",
      " 0   id_cliente              4462 non-null   object \n",
      " 1   nome_artista            4462 non-null   object \n",
      " 2   reputacao_artista       4462 non-null   float64\n",
      " 3   altura                  4462 non-null   float64\n",
      " 4   largura                 4462 non-null   float64\n",
      " 5   peso                    4462 non-null   float64\n",
      " 6   material                4462 non-null   object \n",
      " 7   preco_escultura         4462 non-null   float64\n",
      " 8   preco_base_envio        4462 non-null   float64\n",
      " 9   internacional           4462 non-null   object \n",
      " 10  envio_expresso          4462 non-null   object \n",
      " 11  instalacao_incluida     4462 non-null   object \n",
      " 12  transporte              4462 non-null   object \n",
      " 13  fragil                  4462 non-null   object \n",
      " 14  pedido_extra_cliente    4462 non-null   object \n",
      " 15  localizacao_remota      4462 non-null   object \n",
      " 16  custo                   4462 non-null   float64\n",
      " 17  diferenca_dias_entrega  4462 non-null   int64  \n",
      " 18  data_agendada_dias      4462 non-null   int32  \n",
      " 19  data_agendada_mes       4462 non-null   int32  \n",
      " 20  data_agendada_ano       4462 non-null   int32  \n",
      " 21  data_entrega_dias       4462 non-null   int32  \n",
      " 22  data_entrega_mes        4462 non-null   int32  \n",
      " 23  data_entrega_ano        4462 non-null   int32  \n",
      "dtypes: float64(7), int32(6), int64(1), object(10)\n",
      "memory usage: 732.2+ KB\n"
     ]
    }
   ],
   "source": [
    "df.info()"
   ]
  },
  {
   "cell_type": "code",
   "execution_count": 12,
   "metadata": {
    "id": "JqEB0Yd4ElfG"
   },
   "outputs": [
    {
     "name": "stdout",
     "output_type": "stream",
     "text": [
      "Valores únicos na coluna 'id_cliente' \n",
      " 4462 valores:\n",
      "['e9dff114-bc2b-47e9-9f5c-669e32ad9bbe'\n",
      " 'ba3b707f-b123-4eec-93f4-1fbebfe72b68'\n",
      " 'c4212086-3e22-489e-bc2e-0d5092ef0526' ...\n",
      " 'e1004685-9047-4f34-9103-57d900716936'\n",
      " 'a380ff88-2c96-4d70-919a-af0bc8caeed7'\n",
      " '26fea648-9cc1-4a2b-9458-0b2d35957803']\n",
      "==========================================================================================\n",
      "Valores únicos na coluna 'nome_artista' \n",
      " 4441 valores:\n",
      "['Billy Jenkins' 'Jean Bryant' 'Laura Miller' ... 'William Curry'\n",
      " 'Karen Bayles' 'Denise Worth']\n",
      "==========================================================================================\n",
      "Valores únicos na coluna 'material' \n",
      " 8 valores:\n",
      "['Latão' 'Argila' 'Alumínio' 'Madeira' 'Bronze' 'Pedra' 'Não especificado'\n",
      " 'Mármore']\n",
      "==========================================================================================\n",
      "Valores únicos na coluna 'internacional' \n",
      " 2 valores:\n",
      "['Sim' 'Não']\n",
      "==========================================================================================\n",
      "Valores únicos na coluna 'envio_expresso' \n",
      " 2 valores:\n",
      "['Sim' 'Não']\n",
      "==========================================================================================\n",
      "Valores únicos na coluna 'instalacao_incluida' \n",
      " 2 valores:\n",
      "['Não' 'Sim']\n",
      "==========================================================================================\n",
      "Valores únicos na coluna 'transporte' \n",
      " 4 valores:\n",
      "['Aéreo' 'Rodoviário' 'Não especificado' 'Aquaviário']\n",
      "==========================================================================================\n",
      "Valores únicos na coluna 'fragil' \n",
      " 2 valores:\n",
      "['Não' 'Sim']\n",
      "==========================================================================================\n",
      "Valores únicos na coluna 'pedido_extra_cliente' \n",
      " 2 valores:\n",
      "['Sim' 'Não']\n",
      "==========================================================================================\n",
      "Valores únicos na coluna 'localizacao_remota' \n",
      " 2 valores:\n",
      "['Não' 'Sim']\n",
      "==========================================================================================\n"
     ]
    }
   ],
   "source": [
    "colunas_categoricas = ['id_cliente', 'nome_artista', 'material', 'internacional', 'envio_expresso', 'instalacao_incluida',\n",
    "                       'transporte', 'fragil', 'pedido_extra_cliente','localizacao_remota']\n",
    "\n",
    "for column in colunas_categoricas:\n",
    "    unique_values = df[column].unique()\n",
    "    print(f\"Valores únicos na coluna '{column}' \\n {len(unique_values)} valores:\")\n",
    "    print(unique_values)\n",
    "    print('=='*45)"
   ]
  },
  {
   "cell_type": "markdown",
   "metadata": {
    "id": "p-YnC7HCANgq"
   },
   "source": [
    "**ENTENDENDO AS COLUNAS TEXTUAIS**\n",
    "\n",
    "**Categóricas:**\n",
    "\n",
    "- *Valores binários*: `'internacional'`, `'envio_expresso'`, `'instalacao_incluida'`,  `'fragil'`, `'pedido_extra_cliente'`, `'localizacao_remota'`.\n",
    "- *Várias Categorias*:`'material'`, `'transporte'`\n",
    "- *Valores únicos*: `'id_cliente'`, `'nome_artista'`"
   ]
  },
  {
   "cell_type": "code",
   "execution_count": 13,
   "metadata": {
    "id": "jJLzsfJzEi9y"
   },
   "outputs": [],
   "source": [
    "categoricas = ['material', 'internacional', 'envio_expresso', 'instalacao_incluida',\n",
    "                'transporte', 'fragil', 'pedido_extra_cliente','localizacao_remota']\n",
    "\n",
    "#prefix = aplica o nome nas colunas que serão criadas\n",
    "#drop_first = deleta as colunas de texto antigas\n",
    "df = pd.get_dummies(df, columns=categoricas,\n",
    "                    prefix = categoricas,\n",
    "                    drop_first=True)"
   ]
  },
  {
   "cell_type": "code",
   "execution_count": 15,
   "metadata": {
    "id": "MQ43xy5QEi4Q"
   },
   "outputs": [],
   "source": [
    "df.drop(['id_cliente', 'nome_artista'], axis=1, inplace=True)"
   ]
  },
  {
   "cell_type": "code",
   "execution_count": 16,
   "metadata": {},
   "outputs": [
    {
     "data": {
      "text/html": [
       "<div>\n",
       "<style scoped>\n",
       "    .dataframe tbody tr th:only-of-type {\n",
       "        vertical-align: middle;\n",
       "    }\n",
       "\n",
       "    .dataframe tbody tr th {\n",
       "        vertical-align: top;\n",
       "    }\n",
       "\n",
       "    .dataframe thead th {\n",
       "        text-align: right;\n",
       "    }\n",
       "</style>\n",
       "<table border=\"1\" class=\"dataframe\">\n",
       "  <thead>\n",
       "    <tr style=\"text-align: right;\">\n",
       "      <th></th>\n",
       "      <th>reputacao_artista</th>\n",
       "      <th>altura</th>\n",
       "      <th>largura</th>\n",
       "      <th>peso</th>\n",
       "      <th>preco_escultura</th>\n",
       "      <th>preco_base_envio</th>\n",
       "      <th>custo</th>\n",
       "      <th>diferenca_dias_entrega</th>\n",
       "      <th>data_agendada_dias</th>\n",
       "      <th>data_agendada_mes</th>\n",
       "      <th>...</th>\n",
       "      <th>material_Pedra</th>\n",
       "      <th>internacional_Sim</th>\n",
       "      <th>envio_expresso_Sim</th>\n",
       "      <th>instalacao_incluida_Sim</th>\n",
       "      <th>transporte_Aéreo</th>\n",
       "      <th>transporte_Não especificado</th>\n",
       "      <th>transporte_Rodoviário</th>\n",
       "      <th>fragil_Sim</th>\n",
       "      <th>pedido_extra_cliente_Sim</th>\n",
       "      <th>localizacao_remota_Sim</th>\n",
       "    </tr>\n",
       "  </thead>\n",
       "  <tbody>\n",
       "    <tr>\n",
       "      <th>0</th>\n",
       "      <td>0.26</td>\n",
       "      <td>5.1816</td>\n",
       "      <td>1.8288</td>\n",
       "      <td>1872.427776</td>\n",
       "      <td>73027.5</td>\n",
       "      <td>85.4175</td>\n",
       "      <td>1487.2725</td>\n",
       "      <td>-4</td>\n",
       "      <td>7</td>\n",
       "      <td>6</td>\n",
       "      <td>...</td>\n",
       "      <td>False</td>\n",
       "      <td>True</td>\n",
       "      <td>True</td>\n",
       "      <td>False</td>\n",
       "      <td>True</td>\n",
       "      <td>False</td>\n",
       "      <td>False</td>\n",
       "      <td>False</td>\n",
       "      <td>True</td>\n",
       "      <td>False</td>\n",
       "    </tr>\n",
       "    <tr>\n",
       "      <th>1</th>\n",
       "      <td>0.28</td>\n",
       "      <td>0.9144</td>\n",
       "      <td>0.9144</td>\n",
       "      <td>27.669112</td>\n",
       "      <td>35857.5</td>\n",
       "      <td>78.7500</td>\n",
       "      <td>839.7900</td>\n",
       "      <td>-1</td>\n",
       "      <td>6</td>\n",
       "      <td>3</td>\n",
       "      <td>...</td>\n",
       "      <td>False</td>\n",
       "      <td>False</td>\n",
       "      <td>False</td>\n",
       "      <td>False</td>\n",
       "      <td>False</td>\n",
       "      <td>False</td>\n",
       "      <td>True</td>\n",
       "      <td>False</td>\n",
       "      <td>True</td>\n",
       "      <td>False</td>\n",
       "    </tr>\n",
       "    <tr>\n",
       "      <th>2</th>\n",
       "      <td>0.07</td>\n",
       "      <td>2.4384</td>\n",
       "      <td>1.5240</td>\n",
       "      <td>107.501304</td>\n",
       "      <td>26040.0</td>\n",
       "      <td>111.1950</td>\n",
       "      <td>810.0225</td>\n",
       "      <td>-1</td>\n",
       "      <td>9</td>\n",
       "      <td>3</td>\n",
       "      <td>...</td>\n",
       "      <td>False</td>\n",
       "      <td>False</td>\n",
       "      <td>False</td>\n",
       "      <td>False</td>\n",
       "      <td>False</td>\n",
       "      <td>False</td>\n",
       "      <td>True</td>\n",
       "      <td>True</td>\n",
       "      <td>True</td>\n",
       "      <td>True</td>\n",
       "    </tr>\n",
       "    <tr>\n",
       "      <th>3</th>\n",
       "      <td>0.12</td>\n",
       "      <td>2.7432</td>\n",
       "      <td>2.4384</td>\n",
       "      <td>1407.042384</td>\n",
       "      <td>30502.5</td>\n",
       "      <td>85.6275</td>\n",
       "      <td>846.0900</td>\n",
       "      <td>-4</td>\n",
       "      <td>24</td>\n",
       "      <td>5</td>\n",
       "      <td>...</td>\n",
       "      <td>False</td>\n",
       "      <td>False</td>\n",
       "      <td>False</td>\n",
       "      <td>False</td>\n",
       "      <td>False</td>\n",
       "      <td>True</td>\n",
       "      <td>False</td>\n",
       "      <td>False</td>\n",
       "      <td>False</td>\n",
       "      <td>True</td>\n",
       "    </tr>\n",
       "    <tr>\n",
       "      <th>4</th>\n",
       "      <td>0.15</td>\n",
       "      <td>5.1816</td>\n",
       "      <td>1.8288</td>\n",
       "      <td>146.963808</td>\n",
       "      <td>16695.0</td>\n",
       "      <td>62.6850</td>\n",
       "      <td>835.9575</td>\n",
       "      <td>-4</td>\n",
       "      <td>18</td>\n",
       "      <td>12</td>\n",
       "      <td>...</td>\n",
       "      <td>False</td>\n",
       "      <td>True</td>\n",
       "      <td>True</td>\n",
       "      <td>True</td>\n",
       "      <td>True</td>\n",
       "      <td>False</td>\n",
       "      <td>False</td>\n",
       "      <td>False</td>\n",
       "      <td>True</td>\n",
       "      <td>False</td>\n",
       "    </tr>\n",
       "  </tbody>\n",
       "</table>\n",
       "<p>5 rows × 30 columns</p>\n",
       "</div>"
      ],
      "text/plain": [
       "   reputacao_artista  altura  largura         peso  preco_escultura  \\\n",
       "0               0.26  5.1816   1.8288  1872.427776          73027.5   \n",
       "1               0.28  0.9144   0.9144    27.669112          35857.5   \n",
       "2               0.07  2.4384   1.5240   107.501304          26040.0   \n",
       "3               0.12  2.7432   2.4384  1407.042384          30502.5   \n",
       "4               0.15  5.1816   1.8288   146.963808          16695.0   \n",
       "\n",
       "   preco_base_envio      custo  diferenca_dias_entrega  data_agendada_dias  \\\n",
       "0           85.4175  1487.2725                      -4                   7   \n",
       "1           78.7500   839.7900                      -1                   6   \n",
       "2          111.1950   810.0225                      -1                   9   \n",
       "3           85.6275   846.0900                      -4                  24   \n",
       "4           62.6850   835.9575                      -4                  18   \n",
       "\n",
       "   data_agendada_mes  ...  material_Pedra  internacional_Sim  \\\n",
       "0                  6  ...           False               True   \n",
       "1                  3  ...           False              False   \n",
       "2                  3  ...           False              False   \n",
       "3                  5  ...           False              False   \n",
       "4                 12  ...           False               True   \n",
       "\n",
       "   envio_expresso_Sim  instalacao_incluida_Sim  transporte_Aéreo  \\\n",
       "0                True                    False              True   \n",
       "1               False                    False             False   \n",
       "2               False                    False             False   \n",
       "3               False                    False             False   \n",
       "4                True                     True              True   \n",
       "\n",
       "   transporte_Não especificado  transporte_Rodoviário  fragil_Sim  \\\n",
       "0                        False                  False       False   \n",
       "1                        False                   True       False   \n",
       "2                        False                   True        True   \n",
       "3                         True                  False       False   \n",
       "4                        False                  False       False   \n",
       "\n",
       "   pedido_extra_cliente_Sim  localizacao_remota_Sim  \n",
       "0                      True                   False  \n",
       "1                      True                   False  \n",
       "2                      True                    True  \n",
       "3                     False                    True  \n",
       "4                      True                   False  \n",
       "\n",
       "[5 rows x 30 columns]"
      ]
     },
     "execution_count": 16,
     "metadata": {},
     "output_type": "execute_result"
    }
   ],
   "source": [
    "df.head()"
   ]
  },
  {
   "cell_type": "markdown",
   "metadata": {
    "id": "l-95Kbeao4BY"
   },
   "source": [
    "# Aula 2 - Construindo Árvore de Regressão"
   ]
  },
  {
   "cell_type": "code",
   "execution_count": null,
   "metadata": {
    "id": "dEWbsyqfD7Jr"
   },
   "outputs": [],
   "source": []
  },
  {
   "cell_type": "code",
   "execution_count": null,
   "metadata": {
    "id": "SieqmxYAD7D-"
   },
   "outputs": [],
   "source": []
  },
  {
   "cell_type": "code",
   "execution_count": null,
   "metadata": {
    "id": "2z6cUWNND694"
   },
   "outputs": [],
   "source": []
  },
  {
   "cell_type": "code",
   "execution_count": 14,
   "metadata": {
    "id": "FTuvef2GDsx5"
   },
   "outputs": [
    {
     "name": "stdout",
     "output_type": "stream",
     "text": [
      "Métricas conjunto de treino:\n"
     ]
    },
    {
     "ename": "NameError",
     "evalue": "name 'y_treino' is not defined",
     "output_type": "error",
     "traceback": [
      "\u001b[0;31m---------------------------------------------------------------------------\u001b[0m",
      "\u001b[0;31mNameError\u001b[0m                                 Traceback (most recent call last)",
      "Cell \u001b[0;32mIn[14], line 4\u001b[0m\n\u001b[1;32m      1\u001b[0m \u001b[38;5;28;01mfrom\u001b[39;00m \u001b[38;5;21;01msklearn\u001b[39;00m\u001b[38;5;21;01m.\u001b[39;00m\u001b[38;5;21;01mmetrics\u001b[39;00m \u001b[38;5;28;01mimport\u001b[39;00m mean_absolute_error, mean_squared_error, r2_score\n\u001b[1;32m      3\u001b[0m \u001b[38;5;28mprint\u001b[39m(\u001b[38;5;124m'\u001b[39m\u001b[38;5;124mMétricas conjunto de treino:\u001b[39m\u001b[38;5;124m'\u001b[39m)\n\u001b[0;32m----> 4\u001b[0m \u001b[38;5;28mprint\u001b[39m(\u001b[38;5;124m'\u001b[39m\u001b[38;5;124mR²:\u001b[39m\u001b[38;5;124m'\u001b[39m, r2_score(\u001b[43my_treino\u001b[49m, dtr\u001b[38;5;241m.\u001b[39mpredict(X_treino)))\n\u001b[1;32m      5\u001b[0m \u001b[38;5;28mprint\u001b[39m(\u001b[38;5;124m'\u001b[39m\u001b[38;5;124mMAE:\u001b[39m\u001b[38;5;124m'\u001b[39m, mean_absolute_error(y_treino, dtr\u001b[38;5;241m.\u001b[39mpredict(X_treino)))\n\u001b[1;32m      6\u001b[0m \u001b[38;5;28mprint\u001b[39m(\u001b[38;5;124m'\u001b[39m\u001b[38;5;124mRMSE:\u001b[39m\u001b[38;5;124m'\u001b[39m, mean_squared_error(y_treino, dtr\u001b[38;5;241m.\u001b[39mpredict(X_treino), squared \u001b[38;5;241m=\u001b[39m \u001b[38;5;28;01mFalse\u001b[39;00m))\n",
      "\u001b[0;31mNameError\u001b[0m: name 'y_treino' is not defined"
     ]
    }
   ],
   "source": [
    "from sklearn.metrics import mean_absolute_error, mean_squared_error, r2_score\n",
    "\n",
    "print('Métricas conjunto de treino:')\n",
    "print('R²:', r2_score(y_treino, dtr.predict(X_treino)))\n",
    "print('MAE:', mean_absolute_error(y_treino, dtr.predict(X_treino)))\n",
    "print('RMSE:', mean_squared_error(y_treino, dtr.predict(X_treino), squared = False))\n",
    "\n",
    "print('\\n\\nMétricas conjunto de teste:')\n",
    "print('R²:', r2_score(y_teste, dtr.predict(X_teste)))\n",
    "print('MAE:', mean_absolute_error(y_teste, dtr.predict(X_teste)))\n",
    "print('RMSE:', mean_squared_error(y_teste, dtr.predict(X_teste), squared = False))"
   ]
  },
  {
   "cell_type": "code",
   "execution_count": null,
   "metadata": {
    "id": "vKvD3m2qDxdr"
   },
   "outputs": [],
   "source": [
    "print(f\"Número de nós: {dtr.tree_.node_count}\")\n",
    "print(f\"Número de folhas: {dtr.tree_.n_leaves}\")\n",
    "print(f\"Profundidade máxima: {dtr.tree_.max_depth}\")"
   ]
  },
  {
   "cell_type": "code",
   "execution_count": null,
   "metadata": {
    "id": "SrJoTGybD2Ns"
   },
   "outputs": [],
   "source": []
  },
  {
   "cell_type": "code",
   "execution_count": null,
   "metadata": {
    "id": "EVlqBVGAD2It"
   },
   "outputs": [],
   "source": []
  },
  {
   "cell_type": "code",
   "execution_count": null,
   "metadata": {
    "id": "BZaVLbPRDn7u"
   },
   "outputs": [],
   "source": [
    "import matplotlib.pyplot as plt\n",
    "import seaborn as sns\n",
    "\n",
    "features_importancias = pd.DataFrame({'Feature': dtr.feature_names_in_,\n",
    "                                      'Importância': dtr.feature_importances_}).sort_values(by='Importância', ascending=True)\n",
    "\n",
    "plt.figure(figsize=(10, 6))\n",
    "bars = plt.barh(features_importancias['Feature'], features_importancias['Importância'])\n",
    "plt.xlabel('Importância Relativa')\n",
    "plt.title('Importância das Características')\n",
    "\n",
    "plt.show()"
   ]
  },
  {
   "cell_type": "markdown",
   "metadata": {
    "id": "ZHMeFwKQC5vE"
   },
   "source": [
    "# Aula 3 - Evitando o overfitting com a otimização"
   ]
  },
  {
   "cell_type": "markdown",
   "metadata": {
    "id": "Ne7LEg_LpLCg"
   },
   "source": [
    "![](https://github.com/Mirlaa/regressao-arvores/blob/main/imagens-projeto/imagem--2.png?raw=true)"
   ]
  },
  {
   "cell_type": "code",
   "execution_count": null,
   "metadata": {
    "id": "F7-tbQZcDZh-"
   },
   "outputs": [],
   "source": []
  },
  {
   "cell_type": "code",
   "execution_count": null,
   "metadata": {
    "id": "MuyCD6djDZay"
   },
   "outputs": [],
   "source": []
  },
  {
   "cell_type": "code",
   "execution_count": null,
   "metadata": {
    "id": "bgvE5carDZNt"
   },
   "outputs": [],
   "source": []
  },
  {
   "cell_type": "markdown",
   "metadata": {
    "id": "HygIXZbiDt-1"
   },
   "source": [
    "**VAMOS COMPARAR**\n",
    "\n",
    "![](https://github.com/Mirlaa/regressao-arvores/blob/main/imagens-projeto/imagem-3.png?raw=true)"
   ]
  },
  {
   "cell_type": "code",
   "execution_count": null,
   "metadata": {
    "id": "XTTg_DN9DKzN"
   },
   "outputs": [],
   "source": []
  },
  {
   "cell_type": "code",
   "execution_count": null,
   "metadata": {
    "id": "LdZLOyIRDMe5"
   },
   "outputs": [],
   "source": [
    "treino_rmse = np.sqrt(-resultados['train_score'])\n",
    "teste_rmse = np.sqrt(-resultados['test_score'])\n",
    "\n",
    "print(\"Treino RMSE em cada fold:\", treino_rmse)\n",
    "print(\"Teste RMSE em cada fold:\", teste_rmse)\n",
    "print(\"\\nMédia do RMSE no treino:\", treino_rmse.mean())\n",
    "print(\"Média do RMSE no teste:\", teste_rmse.mean())"
   ]
  },
  {
   "cell_type": "markdown",
   "metadata": {
    "id": "ecYqQROLDTDt"
   },
   "source": [
    "# Aula 4 - Implementando uma Floresta Aleatória"
   ]
  },
  {
   "cell_type": "code",
   "execution_count": null,
   "metadata": {
    "id": "BUs5v1r9A-uN"
   },
   "outputs": [],
   "source": []
  },
  {
   "cell_type": "code",
   "execution_count": null,
   "metadata": {
    "id": "3TrsVLD2A-ew"
   },
   "outputs": [],
   "source": []
  },
  {
   "cell_type": "markdown",
   "metadata": {
    "id": "RjDsEnR_FISx"
   },
   "source": [
    "**VAMOS COMPARAR**\n",
    "\n",
    "![](https://github.com/Mirlaa/regressao-arvores/blob/main/imagens-projeto/imagem-4.png?raw=true)"
   ]
  },
  {
   "cell_type": "code",
   "execution_count": null,
   "metadata": {
    "id": "7E4NescaBEiT"
   },
   "outputs": [],
   "source": []
  },
  {
   "cell_type": "markdown",
   "metadata": {
    "id": "ydDWsaP8FmB5"
   },
   "source": [
    "# Aula 5 - Buscando a otimização da Floresta Aleatória"
   ]
  },
  {
   "cell_type": "code",
   "execution_count": null,
   "metadata": {
    "id": "WxWGHHtm-yIO"
   },
   "outputs": [],
   "source": []
  },
  {
   "cell_type": "code",
   "execution_count": null,
   "metadata": {
    "id": "LfscTpF5-wYf"
   },
   "outputs": [],
   "source": []
  },
  {
   "cell_type": "code",
   "execution_count": null,
   "metadata": {
    "id": "HKXiwz2B-wSZ"
   },
   "outputs": [],
   "source": []
  },
  {
   "cell_type": "markdown",
   "metadata": {
    "id": "7pAdEyjyGL_j"
   },
   "source": [
    "**VAMOS COMPARAR**\n",
    "\n",
    "![](https://github.com/Mirlaa/regressao-arvores/blob/main/imagens-projeto/imagem-5.png?raw=true)"
   ]
  },
  {
   "cell_type": "code",
   "execution_count": null,
   "metadata": {
    "id": "SoXUBTTqDOie"
   },
   "outputs": [],
   "source": [
    "cv_estrategia = KFold(n_splits=3, shuffle=True, random_state=45)\n",
    "\n",
    "resultados = cross_validate(rfr_otimizado,X,y,scoring='neg_mean_squared_error', cv= cv_estrategia,\n",
    "                            return_train_score=True)\n",
    "\n",
    "treino_rmse = np.sqrt(-resultados['train_score'])\n",
    "teste_rmse = np.sqrt(-resultados['test_score'])\n",
    "\n",
    "print(\"Média do RMSE no treino:\", treino_rmse.mean())\n",
    "print(\"Média do RMSE no teste:\", teste_rmse.mean())"
   ]
  },
  {
   "cell_type": "code",
   "execution_count": null,
   "metadata": {
    "id": "kw0opUQt-MW9"
   },
   "outputs": [],
   "source": []
  },
  {
   "cell_type": "code",
   "execution_count": null,
   "metadata": {
    "executionInfo": {
     "elapsed": 414,
     "status": "ok",
     "timestamp": 1716239260859,
     "user": {
      "displayName": "Mirla Borges",
      "userId": "16057667184099544912"
     },
     "user_tz": 180
    },
    "id": "f218dAvsWnXF"
   },
   "outputs": [],
   "source": []
  }
 ],
 "metadata": {
  "colab": {
   "authorship_tag": "ABX9TyOtYNwPwsUZk/YwGnbNIRxu",
   "collapsed_sections": [
    "l-95Kbeao4BY",
    "ecYqQROLDTDt",
    "ydDWsaP8FmB5"
   ],
   "mount_file_id": "1SdFFRhPAzdaaoM2fhC36BLaAOJHn0Suy",
   "provenance": [
    {
     "file_id": "1SdFFRhPAzdaaoM2fhC36BLaAOJHn0Suy",
     "timestamp": 1715021456138
    }
   ]
  },
  "kernelspec": {
   "display_name": "Python 3 (ipykernel)",
   "language": "python",
   "name": "python3"
  },
  "language_info": {
   "codemirror_mode": {
    "name": "ipython",
    "version": 3
   },
   "file_extension": ".py",
   "mimetype": "text/x-python",
   "name": "python",
   "nbconvert_exporter": "python",
   "pygments_lexer": "ipython3",
   "version": "3.10.12"
  }
 },
 "nbformat": 4,
 "nbformat_minor": 4
}
